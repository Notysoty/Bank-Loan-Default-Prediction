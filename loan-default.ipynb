{
 "cells": [
  {
   "cell_type": "code",
   "execution_count": 1,
   "id": "confused-devon",
   "metadata": {
    "_cell_guid": "b1076dfc-b9ad-4769-8c92-a6c4dae69d19",
    "_uuid": "8f2839f25d086af736a60e9eeb907d3b93b6e0e5",
    "execution": {
     "iopub.execute_input": "2021-03-17T10:10:46.965670Z",
     "iopub.status.busy": "2021-03-17T10:10:46.964341Z",
     "iopub.status.idle": "2021-03-17T10:10:46.983496Z",
     "shell.execute_reply": "2021-03-17T10:10:46.982806Z"
    },
    "papermill": {
     "duration": 0.068626,
     "end_time": "2021-03-17T10:10:46.983682",
     "exception": false,
     "start_time": "2021-03-17T10:10:46.915056",
     "status": "completed"
    },
    "tags": []
   },
   "outputs": [],
   "source": [
    "# This Python 3 environment comes with many helpful analytics libraries installed\n",
    "# It is defined by the kaggle/python Docker image: https://github.com/kaggle/docker-python\n",
    "# For example, here's several helpful packages to load\n",
    "\n",
    "import numpy as np # linear algebra\n",
    "import pandas as pd # data processing, CSV file I/O (e.g. pd.read_csv)\n",
    "\n",
    "# Input data files are available in the read-only \"../input/\" directory\n",
    "# For example, running this (by clicking run or pressing Shift+Enter) will list all files under the input directory\n",
    "\n",
    "import os\n",
    "for dirname, _, filenames in os.walk('/kaggle/input'):\n",
    "    for filename in filenames:\n",
    "        print(os.path.join(dirname, filename))\n",
    "\n",
    "# You can write up to 20GB to the current directory (/kaggle/working/) that gets preserved as output when you create a version using \"Save & Run All\" \n",
    "# You can also write temporary files to /kaggle/temp/, but they won't be saved outside of the current session"
   ]
  },
  {
   "cell_type": "code",
   "execution_count": 2,
   "id": "opposed-logic",
   "metadata": {
    "execution": {
     "iopub.execute_input": "2021-03-17T10:10:47.076359Z",
     "iopub.status.busy": "2021-03-17T10:10:47.075765Z",
     "iopub.status.idle": "2021-03-17T10:10:48.229708Z",
     "shell.execute_reply": "2021-03-17T10:10:48.228552Z"
    },
    "papermill": {
     "duration": 1.200991,
     "end_time": "2021-03-17T10:10:48.229866",
     "exception": false,
     "start_time": "2021-03-17T10:10:47.028875",
     "status": "completed"
    },
    "tags": []
   },
   "outputs": [],
   "source": [
    "import matplotlib.pyplot as plt\n",
    "import seaborn as sns"
   ]
  },
  {
   "cell_type": "code",
   "execution_count": 3,
   "id": "automotive-nickname",
   "metadata": {
    "execution": {
     "iopub.execute_input": "2021-03-17T10:10:48.323293Z",
     "iopub.status.busy": "2021-03-17T10:10:48.322518Z",
     "iopub.status.idle": "2021-03-17T10:10:48.325401Z",
     "shell.execute_reply": "2021-03-17T10:10:48.325894Z"
    },
    "papermill": {
     "duration": 0.051911,
     "end_time": "2021-03-17T10:10:48.326085",
     "exception": false,
     "start_time": "2021-03-17T10:10:48.274174",
     "status": "completed"
    },
    "tags": []
   },
   "outputs": [],
   "source": [
    "import warnings\n",
    "warnings.filterwarnings(action='ignore')"
   ]
  },
  {
   "cell_type": "code",
   "execution_count": 4,
   "id": "focal-fever",
   "metadata": {
    "execution": {
     "iopub.execute_input": "2021-03-17T10:10:48.418337Z",
     "iopub.status.busy": "2021-03-17T10:10:48.417408Z",
     "iopub.status.idle": "2021-03-17T10:10:48.468569Z",
     "shell.execute_reply": "2021-03-17T10:10:48.467827Z"
    },
    "papermill": {
     "duration": 0.098311,
     "end_time": "2021-03-17T10:10:48.468715",
     "exception": false,
     "start_time": "2021-03-17T10:10:48.370404",
     "status": "completed"
    },
    "tags": []
   },
   "outputs": [
    {
     "data": {
      "text/html": [
       "<div>\n",
       "<style scoped>\n",
       "    .dataframe tbody tr th:only-of-type {\n",
       "        vertical-align: middle;\n",
       "    }\n",
       "\n",
       "    .dataframe tbody tr th {\n",
       "        vertical-align: top;\n",
       "    }\n",
       "\n",
       "    .dataframe thead th {\n",
       "        text-align: right;\n",
       "    }\n",
       "</style>\n",
       "<table border=\"1\" class=\"dataframe\">\n",
       "  <thead>\n",
       "    <tr style=\"text-align: right;\">\n",
       "      <th></th>\n",
       "      <th>age</th>\n",
       "      <th>ed</th>\n",
       "      <th>employ</th>\n",
       "      <th>address</th>\n",
       "      <th>income</th>\n",
       "      <th>debtinc</th>\n",
       "      <th>creddebt</th>\n",
       "      <th>othdebt</th>\n",
       "      <th>default</th>\n",
       "    </tr>\n",
       "  </thead>\n",
       "  <tbody>\n",
       "    <tr>\n",
       "      <th>0</th>\n",
       "      <td>41</td>\n",
       "      <td>3</td>\n",
       "      <td>17</td>\n",
       "      <td>12</td>\n",
       "      <td>176</td>\n",
       "      <td>9.3</td>\n",
       "      <td>11.359392</td>\n",
       "      <td>5.008608</td>\n",
       "      <td>1.0</td>\n",
       "    </tr>\n",
       "    <tr>\n",
       "      <th>1</th>\n",
       "      <td>27</td>\n",
       "      <td>1</td>\n",
       "      <td>10</td>\n",
       "      <td>6</td>\n",
       "      <td>31</td>\n",
       "      <td>17.3</td>\n",
       "      <td>1.362202</td>\n",
       "      <td>4.000798</td>\n",
       "      <td>0.0</td>\n",
       "    </tr>\n",
       "    <tr>\n",
       "      <th>2</th>\n",
       "      <td>40</td>\n",
       "      <td>1</td>\n",
       "      <td>15</td>\n",
       "      <td>14</td>\n",
       "      <td>55</td>\n",
       "      <td>5.5</td>\n",
       "      <td>0.856075</td>\n",
       "      <td>2.168925</td>\n",
       "      <td>0.0</td>\n",
       "    </tr>\n",
       "    <tr>\n",
       "      <th>3</th>\n",
       "      <td>41</td>\n",
       "      <td>1</td>\n",
       "      <td>15</td>\n",
       "      <td>14</td>\n",
       "      <td>120</td>\n",
       "      <td>2.9</td>\n",
       "      <td>2.658720</td>\n",
       "      <td>0.821280</td>\n",
       "      <td>0.0</td>\n",
       "    </tr>\n",
       "    <tr>\n",
       "      <th>4</th>\n",
       "      <td>24</td>\n",
       "      <td>2</td>\n",
       "      <td>2</td>\n",
       "      <td>0</td>\n",
       "      <td>28</td>\n",
       "      <td>17.3</td>\n",
       "      <td>1.787436</td>\n",
       "      <td>3.056564</td>\n",
       "      <td>1.0</td>\n",
       "    </tr>\n",
       "  </tbody>\n",
       "</table>\n",
       "</div>"
      ],
      "text/plain": [
       "   age  ed  employ  address  income  debtinc   creddebt   othdebt  default\n",
       "0   41   3      17       12     176      9.3  11.359392  5.008608      1.0\n",
       "1   27   1      10        6      31     17.3   1.362202  4.000798      0.0\n",
       "2   40   1      15       14      55      5.5   0.856075  2.168925      0.0\n",
       "3   41   1      15       14     120      2.9   2.658720  0.821280      0.0\n",
       "4   24   2       2        0      28     17.3   1.787436  3.056564      1.0"
      ]
     },
     "execution_count": 4,
     "metadata": {},
     "output_type": "execute_result"
    }
   ],
   "source": [
    "data = pd.read_csv('bank-loan.csv')\n",
    "data.head()"
   ]
  },
  {
   "cell_type": "code",
   "execution_count": 5,
   "id": "respiratory-audit",
   "metadata": {
    "execution": {
     "iopub.execute_input": "2021-03-17T10:10:48.566766Z",
     "iopub.status.busy": "2021-03-17T10:10:48.566030Z",
     "iopub.status.idle": "2021-03-17T10:10:48.569729Z",
     "shell.execute_reply": "2021-03-17T10:10:48.569128Z"
    },
    "papermill": {
     "duration": 0.053339,
     "end_time": "2021-03-17T10:10:48.569873",
     "exception": false,
     "start_time": "2021-03-17T10:10:48.516534",
     "status": "completed"
    },
    "tags": []
   },
   "outputs": [],
   "source": [
    "data_copy = data.copy()"
   ]
  },
  {
   "cell_type": "code",
   "execution_count": 6,
   "id": "difficult-latest",
   "metadata": {
    "execution": {
     "iopub.execute_input": "2021-03-17T10:10:48.668898Z",
     "iopub.status.busy": "2021-03-17T10:10:48.667995Z",
     "iopub.status.idle": "2021-03-17T10:10:48.672650Z",
     "shell.execute_reply": "2021-03-17T10:10:48.672080Z"
    },
    "papermill": {
     "duration": 0.056039,
     "end_time": "2021-03-17T10:10:48.672785",
     "exception": false,
     "start_time": "2021-03-17T10:10:48.616746",
     "status": "completed"
    },
    "tags": []
   },
   "outputs": [
    {
     "data": {
      "text/plain": [
       "age           int64\n",
       "ed            int64\n",
       "employ        int64\n",
       "address       int64\n",
       "income        int64\n",
       "debtinc     float64\n",
       "creddebt    float64\n",
       "othdebt     float64\n",
       "default     float64\n",
       "dtype: object"
      ]
     },
     "execution_count": 6,
     "metadata": {},
     "output_type": "execute_result"
    }
   ],
   "source": [
    "data.dtypes"
   ]
  },
  {
   "cell_type": "markdown",
   "id": "respiratory-modeling",
   "metadata": {
    "papermill": {
     "duration": 0.045648,
     "end_time": "2021-03-17T10:10:48.764427",
     "exception": false,
     "start_time": "2021-03-17T10:10:48.718779",
     "status": "completed"
    },
    "tags": []
   },
   "source": [
    "# EDA"
   ]
  },
  {
   "cell_type": "code",
   "execution_count": 7,
   "id": "durable-welcome",
   "metadata": {
    "execution": {
     "iopub.execute_input": "2021-03-17T10:10:48.862584Z",
     "iopub.status.busy": "2021-03-17T10:10:48.861572Z",
     "iopub.status.idle": "2021-03-17T10:10:48.896649Z",
     "shell.execute_reply": "2021-03-17T10:10:48.896146Z"
    },
    "papermill": {
     "duration": 0.087412,
     "end_time": "2021-03-17T10:10:48.896797",
     "exception": false,
     "start_time": "2021-03-17T10:10:48.809385",
     "status": "completed"
    },
    "tags": []
   },
   "outputs": [
    {
     "data": {
      "text/html": [
       "<div>\n",
       "<style scoped>\n",
       "    .dataframe tbody tr th:only-of-type {\n",
       "        vertical-align: middle;\n",
       "    }\n",
       "\n",
       "    .dataframe tbody tr th {\n",
       "        vertical-align: top;\n",
       "    }\n",
       "\n",
       "    .dataframe thead th {\n",
       "        text-align: right;\n",
       "    }\n",
       "</style>\n",
       "<table border=\"1\" class=\"dataframe\">\n",
       "  <thead>\n",
       "    <tr style=\"text-align: right;\">\n",
       "      <th></th>\n",
       "      <th>age</th>\n",
       "      <th>ed</th>\n",
       "      <th>employ</th>\n",
       "      <th>address</th>\n",
       "      <th>income</th>\n",
       "      <th>debtinc</th>\n",
       "      <th>creddebt</th>\n",
       "      <th>othdebt</th>\n",
       "      <th>default</th>\n",
       "    </tr>\n",
       "  </thead>\n",
       "  <tbody>\n",
       "    <tr>\n",
       "      <th>count</th>\n",
       "      <td>850.000000</td>\n",
       "      <td>850.000000</td>\n",
       "      <td>850.000000</td>\n",
       "      <td>850.000000</td>\n",
       "      <td>850.000000</td>\n",
       "      <td>850.000000</td>\n",
       "      <td>850.000000</td>\n",
       "      <td>850.000000</td>\n",
       "      <td>700.000000</td>\n",
       "    </tr>\n",
       "    <tr>\n",
       "      <th>mean</th>\n",
       "      <td>35.029412</td>\n",
       "      <td>1.710588</td>\n",
       "      <td>8.565882</td>\n",
       "      <td>8.371765</td>\n",
       "      <td>46.675294</td>\n",
       "      <td>10.171647</td>\n",
       "      <td>1.576805</td>\n",
       "      <td>3.078789</td>\n",
       "      <td>0.261429</td>\n",
       "    </tr>\n",
       "    <tr>\n",
       "      <th>std</th>\n",
       "      <td>8.041432</td>\n",
       "      <td>0.927784</td>\n",
       "      <td>6.777884</td>\n",
       "      <td>6.895016</td>\n",
       "      <td>38.543054</td>\n",
       "      <td>6.719441</td>\n",
       "      <td>2.125840</td>\n",
       "      <td>3.398803</td>\n",
       "      <td>0.439727</td>\n",
       "    </tr>\n",
       "    <tr>\n",
       "      <th>min</th>\n",
       "      <td>20.000000</td>\n",
       "      <td>1.000000</td>\n",
       "      <td>0.000000</td>\n",
       "      <td>0.000000</td>\n",
       "      <td>13.000000</td>\n",
       "      <td>0.100000</td>\n",
       "      <td>0.011696</td>\n",
       "      <td>0.045584</td>\n",
       "      <td>0.000000</td>\n",
       "    </tr>\n",
       "    <tr>\n",
       "      <th>25%</th>\n",
       "      <td>29.000000</td>\n",
       "      <td>1.000000</td>\n",
       "      <td>3.000000</td>\n",
       "      <td>3.000000</td>\n",
       "      <td>24.000000</td>\n",
       "      <td>5.100000</td>\n",
       "      <td>0.382176</td>\n",
       "      <td>1.045942</td>\n",
       "      <td>0.000000</td>\n",
       "    </tr>\n",
       "    <tr>\n",
       "      <th>50%</th>\n",
       "      <td>34.000000</td>\n",
       "      <td>1.000000</td>\n",
       "      <td>7.000000</td>\n",
       "      <td>7.000000</td>\n",
       "      <td>35.000000</td>\n",
       "      <td>8.700000</td>\n",
       "      <td>0.885091</td>\n",
       "      <td>2.003243</td>\n",
       "      <td>0.000000</td>\n",
       "    </tr>\n",
       "    <tr>\n",
       "      <th>75%</th>\n",
       "      <td>41.000000</td>\n",
       "      <td>2.000000</td>\n",
       "      <td>13.000000</td>\n",
       "      <td>12.000000</td>\n",
       "      <td>55.750000</td>\n",
       "      <td>13.800000</td>\n",
       "      <td>1.898440</td>\n",
       "      <td>3.903001</td>\n",
       "      <td>1.000000</td>\n",
       "    </tr>\n",
       "    <tr>\n",
       "      <th>max</th>\n",
       "      <td>56.000000</td>\n",
       "      <td>5.000000</td>\n",
       "      <td>33.000000</td>\n",
       "      <td>34.000000</td>\n",
       "      <td>446.000000</td>\n",
       "      <td>41.300000</td>\n",
       "      <td>20.561310</td>\n",
       "      <td>35.197500</td>\n",
       "      <td>1.000000</td>\n",
       "    </tr>\n",
       "  </tbody>\n",
       "</table>\n",
       "</div>"
      ],
      "text/plain": [
       "              age          ed      employ     address      income     debtinc  \\\n",
       "count  850.000000  850.000000  850.000000  850.000000  850.000000  850.000000   \n",
       "mean    35.029412    1.710588    8.565882    8.371765   46.675294   10.171647   \n",
       "std      8.041432    0.927784    6.777884    6.895016   38.543054    6.719441   \n",
       "min     20.000000    1.000000    0.000000    0.000000   13.000000    0.100000   \n",
       "25%     29.000000    1.000000    3.000000    3.000000   24.000000    5.100000   \n",
       "50%     34.000000    1.000000    7.000000    7.000000   35.000000    8.700000   \n",
       "75%     41.000000    2.000000   13.000000   12.000000   55.750000   13.800000   \n",
       "max     56.000000    5.000000   33.000000   34.000000  446.000000   41.300000   \n",
       "\n",
       "         creddebt     othdebt     default  \n",
       "count  850.000000  850.000000  700.000000  \n",
       "mean     1.576805    3.078789    0.261429  \n",
       "std      2.125840    3.398803    0.439727  \n",
       "min      0.011696    0.045584    0.000000  \n",
       "25%      0.382176    1.045942    0.000000  \n",
       "50%      0.885091    2.003243    0.000000  \n",
       "75%      1.898440    3.903001    1.000000  \n",
       "max     20.561310   35.197500    1.000000  "
      ]
     },
     "execution_count": 7,
     "metadata": {},
     "output_type": "execute_result"
    }
   ],
   "source": [
    "data.describe()"
   ]
  },
  {
   "cell_type": "code",
   "execution_count": 8,
   "id": "sustained-migration",
   "metadata": {
    "execution": {
     "iopub.execute_input": "2021-03-17T10:10:49.007264Z",
     "iopub.status.busy": "2021-03-17T10:10:49.001353Z",
     "iopub.status.idle": "2021-03-17T10:10:49.012197Z",
     "shell.execute_reply": "2021-03-17T10:10:49.012885Z"
    },
    "papermill": {
     "duration": 0.07022,
     "end_time": "2021-03-17T10:10:49.013134",
     "exception": false,
     "start_time": "2021-03-17T10:10:48.942914",
     "status": "completed"
    },
    "tags": []
   },
   "outputs": [
    {
     "name": "stdout",
     "output_type": "stream",
     "text": [
      "<class 'pandas.core.frame.DataFrame'>\n",
      "RangeIndex: 850 entries, 0 to 849\n",
      "Data columns (total 9 columns):\n",
      " #   Column    Non-Null Count  Dtype  \n",
      "---  ------    --------------  -----  \n",
      " 0   age       850 non-null    int64  \n",
      " 1   ed        850 non-null    int64  \n",
      " 2   employ    850 non-null    int64  \n",
      " 3   address   850 non-null    int64  \n",
      " 4   income    850 non-null    int64  \n",
      " 5   debtinc   850 non-null    float64\n",
      " 6   creddebt  850 non-null    float64\n",
      " 7   othdebt   850 non-null    float64\n",
      " 8   default   700 non-null    float64\n",
      "dtypes: float64(4), int64(5)\n",
      "memory usage: 59.9 KB\n"
     ]
    }
   ],
   "source": [
    "data.info()"
   ]
  },
  {
   "cell_type": "markdown",
   "id": "twelve-economics",
   "metadata": {
    "papermill": {
     "duration": 0.046061,
     "end_time": "2021-03-17T10:10:49.106197",
     "exception": false,
     "start_time": "2021-03-17T10:10:49.060136",
     "status": "completed"
    },
    "tags": []
   },
   "source": [
    "## Checking for Null Values"
   ]
  },
  {
   "cell_type": "code",
   "execution_count": 9,
   "id": "southwest-wellington",
   "metadata": {
    "execution": {
     "iopub.execute_input": "2021-03-17T10:10:49.206448Z",
     "iopub.status.busy": "2021-03-17T10:10:49.205690Z",
     "iopub.status.idle": "2021-03-17T10:10:49.211776Z",
     "shell.execute_reply": "2021-03-17T10:10:49.211100Z"
    },
    "papermill": {
     "duration": 0.059117,
     "end_time": "2021-03-17T10:10:49.211923",
     "exception": false,
     "start_time": "2021-03-17T10:10:49.152806",
     "status": "completed"
    },
    "tags": []
   },
   "outputs": [
    {
     "data": {
      "text/plain": [
       "age           0\n",
       "ed            0\n",
       "employ        0\n",
       "address       0\n",
       "income        0\n",
       "debtinc       0\n",
       "creddebt      0\n",
       "othdebt       0\n",
       "default     150\n",
       "dtype: int64"
      ]
     },
     "execution_count": 9,
     "metadata": {},
     "output_type": "execute_result"
    }
   ],
   "source": [
    "data.isnull().sum()"
   ]
  },
  {
   "cell_type": "code",
   "execution_count": 10,
   "id": "detected-field",
   "metadata": {
    "execution": {
     "iopub.execute_input": "2021-03-17T10:10:49.313391Z",
     "iopub.status.busy": "2021-03-17T10:10:49.312599Z",
     "iopub.status.idle": "2021-03-17T10:10:49.315690Z",
     "shell.execute_reply": "2021-03-17T10:10:49.315046Z"
    },
    "papermill": {
     "duration": 0.056284,
     "end_time": "2021-03-17T10:10:49.315836",
     "exception": false,
     "start_time": "2021-03-17T10:10:49.259552",
     "status": "completed"
    },
    "tags": []
   },
   "outputs": [],
   "source": [
    "data_wona = data[data.default.notnull()]"
   ]
  },
  {
   "cell_type": "code",
   "execution_count": 11,
   "id": "billion-restoration",
   "metadata": {
    "execution": {
     "iopub.execute_input": "2021-03-17T10:10:49.419566Z",
     "iopub.status.busy": "2021-03-17T10:10:49.417658Z",
     "iopub.status.idle": "2021-03-17T10:10:49.450446Z",
     "shell.execute_reply": "2021-03-17T10:10:49.449934Z"
    },
    "papermill": {
     "duration": 0.087396,
     "end_time": "2021-03-17T10:10:49.450609",
     "exception": false,
     "start_time": "2021-03-17T10:10:49.363213",
     "status": "completed"
    },
    "tags": []
   },
   "outputs": [
    {
     "data": {
      "text/html": [
       "<div>\n",
       "<style scoped>\n",
       "    .dataframe tbody tr th:only-of-type {\n",
       "        vertical-align: middle;\n",
       "    }\n",
       "\n",
       "    .dataframe tbody tr th {\n",
       "        vertical-align: top;\n",
       "    }\n",
       "\n",
       "    .dataframe thead th {\n",
       "        text-align: right;\n",
       "    }\n",
       "</style>\n",
       "<table border=\"1\" class=\"dataframe\">\n",
       "  <thead>\n",
       "    <tr style=\"text-align: right;\">\n",
       "      <th></th>\n",
       "      <th>age</th>\n",
       "      <th>ed</th>\n",
       "      <th>employ</th>\n",
       "      <th>address</th>\n",
       "      <th>income</th>\n",
       "      <th>debtinc</th>\n",
       "      <th>creddebt</th>\n",
       "      <th>othdebt</th>\n",
       "      <th>default</th>\n",
       "    </tr>\n",
       "  </thead>\n",
       "  <tbody>\n",
       "    <tr>\n",
       "      <th>count</th>\n",
       "      <td>700.000000</td>\n",
       "      <td>700.000000</td>\n",
       "      <td>700.000000</td>\n",
       "      <td>700.000000</td>\n",
       "      <td>700.000000</td>\n",
       "      <td>700.000000</td>\n",
       "      <td>700.000000</td>\n",
       "      <td>700.000000</td>\n",
       "      <td>700.000000</td>\n",
       "    </tr>\n",
       "    <tr>\n",
       "      <th>mean</th>\n",
       "      <td>34.860000</td>\n",
       "      <td>1.722857</td>\n",
       "      <td>8.388571</td>\n",
       "      <td>8.278571</td>\n",
       "      <td>45.601429</td>\n",
       "      <td>10.260571</td>\n",
       "      <td>1.553553</td>\n",
       "      <td>3.058209</td>\n",
       "      <td>0.261429</td>\n",
       "    </tr>\n",
       "    <tr>\n",
       "      <th>std</th>\n",
       "      <td>7.997342</td>\n",
       "      <td>0.928206</td>\n",
       "      <td>6.658039</td>\n",
       "      <td>6.824877</td>\n",
       "      <td>36.814226</td>\n",
       "      <td>6.827234</td>\n",
       "      <td>2.117197</td>\n",
       "      <td>3.287555</td>\n",
       "      <td>0.439727</td>\n",
       "    </tr>\n",
       "    <tr>\n",
       "      <th>min</th>\n",
       "      <td>20.000000</td>\n",
       "      <td>1.000000</td>\n",
       "      <td>0.000000</td>\n",
       "      <td>0.000000</td>\n",
       "      <td>14.000000</td>\n",
       "      <td>0.400000</td>\n",
       "      <td>0.011696</td>\n",
       "      <td>0.045584</td>\n",
       "      <td>0.000000</td>\n",
       "    </tr>\n",
       "    <tr>\n",
       "      <th>25%</th>\n",
       "      <td>29.000000</td>\n",
       "      <td>1.000000</td>\n",
       "      <td>3.000000</td>\n",
       "      <td>3.000000</td>\n",
       "      <td>24.000000</td>\n",
       "      <td>5.000000</td>\n",
       "      <td>0.369059</td>\n",
       "      <td>1.044178</td>\n",
       "      <td>0.000000</td>\n",
       "    </tr>\n",
       "    <tr>\n",
       "      <th>50%</th>\n",
       "      <td>34.000000</td>\n",
       "      <td>1.000000</td>\n",
       "      <td>7.000000</td>\n",
       "      <td>7.000000</td>\n",
       "      <td>34.000000</td>\n",
       "      <td>8.600000</td>\n",
       "      <td>0.854869</td>\n",
       "      <td>1.987567</td>\n",
       "      <td>0.000000</td>\n",
       "    </tr>\n",
       "    <tr>\n",
       "      <th>75%</th>\n",
       "      <td>40.000000</td>\n",
       "      <td>2.000000</td>\n",
       "      <td>12.000000</td>\n",
       "      <td>12.000000</td>\n",
       "      <td>55.000000</td>\n",
       "      <td>14.125000</td>\n",
       "      <td>1.901955</td>\n",
       "      <td>3.923065</td>\n",
       "      <td>1.000000</td>\n",
       "    </tr>\n",
       "    <tr>\n",
       "      <th>max</th>\n",
       "      <td>56.000000</td>\n",
       "      <td>5.000000</td>\n",
       "      <td>31.000000</td>\n",
       "      <td>34.000000</td>\n",
       "      <td>446.000000</td>\n",
       "      <td>41.300000</td>\n",
       "      <td>20.561310</td>\n",
       "      <td>27.033600</td>\n",
       "      <td>1.000000</td>\n",
       "    </tr>\n",
       "  </tbody>\n",
       "</table>\n",
       "</div>"
      ],
      "text/plain": [
       "              age          ed      employ     address      income     debtinc  \\\n",
       "count  700.000000  700.000000  700.000000  700.000000  700.000000  700.000000   \n",
       "mean    34.860000    1.722857    8.388571    8.278571   45.601429   10.260571   \n",
       "std      7.997342    0.928206    6.658039    6.824877   36.814226    6.827234   \n",
       "min     20.000000    1.000000    0.000000    0.000000   14.000000    0.400000   \n",
       "25%     29.000000    1.000000    3.000000    3.000000   24.000000    5.000000   \n",
       "50%     34.000000    1.000000    7.000000    7.000000   34.000000    8.600000   \n",
       "75%     40.000000    2.000000   12.000000   12.000000   55.000000   14.125000   \n",
       "max     56.000000    5.000000   31.000000   34.000000  446.000000   41.300000   \n",
       "\n",
       "         creddebt     othdebt     default  \n",
       "count  700.000000  700.000000  700.000000  \n",
       "mean     1.553553    3.058209    0.261429  \n",
       "std      2.117197    3.287555    0.439727  \n",
       "min      0.011696    0.045584    0.000000  \n",
       "25%      0.369059    1.044178    0.000000  \n",
       "50%      0.854869    1.987567    0.000000  \n",
       "75%      1.901955    3.923065    1.000000  \n",
       "max     20.561310   27.033600    1.000000  "
      ]
     },
     "execution_count": 11,
     "metadata": {},
     "output_type": "execute_result"
    }
   ],
   "source": [
    "data_wona.describe()"
   ]
  },
  {
   "cell_type": "code",
   "execution_count": 12,
   "id": "rough-outline",
   "metadata": {
    "execution": {
     "iopub.execute_input": "2021-03-17T10:10:49.569372Z",
     "iopub.status.busy": "2021-03-17T10:10:49.568580Z",
     "iopub.status.idle": "2021-03-17T10:10:49.573418Z",
     "shell.execute_reply": "2021-03-17T10:10:49.572329Z"
    },
    "papermill": {
     "duration": 0.075449,
     "end_time": "2021-03-17T10:10:49.573630",
     "exception": false,
     "start_time": "2021-03-17T10:10:49.498181",
     "status": "completed"
    },
    "tags": []
   },
   "outputs": [
    {
     "name": "stdout",
     "output_type": "stream",
     "text": [
      "<class 'pandas.core.frame.DataFrame'>\n",
      "Int64Index: 700 entries, 0 to 699\n",
      "Data columns (total 9 columns):\n",
      " #   Column    Non-Null Count  Dtype  \n",
      "---  ------    --------------  -----  \n",
      " 0   age       700 non-null    int64  \n",
      " 1   ed        700 non-null    int64  \n",
      " 2   employ    700 non-null    int64  \n",
      " 3   address   700 non-null    int64  \n",
      " 4   income    700 non-null    int64  \n",
      " 5   debtinc   700 non-null    float64\n",
      " 6   creddebt  700 non-null    float64\n",
      " 7   othdebt   700 non-null    float64\n",
      " 8   default   700 non-null    float64\n",
      "dtypes: float64(4), int64(5)\n",
      "memory usage: 54.7 KB\n"
     ]
    }
   ],
   "source": [
    "data_wona.info()"
   ]
  },
  {
   "cell_type": "code",
   "execution_count": 13,
   "id": "legislative-auction",
   "metadata": {
    "execution": {
     "iopub.execute_input": "2021-03-17T10:10:49.700687Z",
     "iopub.status.busy": "2021-03-17T10:10:49.699816Z",
     "iopub.status.idle": "2021-03-17T10:10:49.704484Z",
     "shell.execute_reply": "2021-03-17T10:10:49.703891Z"
    },
    "papermill": {
     "duration": 0.065747,
     "end_time": "2021-03-17T10:10:49.704624",
     "exception": false,
     "start_time": "2021-03-17T10:10:49.638877",
     "status": "completed"
    },
    "tags": []
   },
   "outputs": [
    {
     "data": {
      "text/plain": [
       "age         0\n",
       "ed          0\n",
       "employ      0\n",
       "address     0\n",
       "income      0\n",
       "debtinc     0\n",
       "creddebt    0\n",
       "othdebt     0\n",
       "default     0\n",
       "dtype: int64"
      ]
     },
     "execution_count": 13,
     "metadata": {},
     "output_type": "execute_result"
    }
   ],
   "source": [
    "data_wona.isnull().sum()"
   ]
  },
  {
   "cell_type": "code",
   "execution_count": 14,
   "id": "different-domain",
   "metadata": {
    "execution": {
     "iopub.execute_input": "2021-03-17T10:10:49.809253Z",
     "iopub.status.busy": "2021-03-17T10:10:49.808626Z",
     "iopub.status.idle": "2021-03-17T10:10:49.811972Z",
     "shell.execute_reply": "2021-03-17T10:10:49.811358Z"
    },
    "papermill": {
     "duration": 0.058029,
     "end_time": "2021-03-17T10:10:49.812108",
     "exception": false,
     "start_time": "2021-03-17T10:10:49.754079",
     "status": "completed"
    },
    "tags": []
   },
   "outputs": [],
   "source": [
    "data_wona = data_wona.astype({'default':int})"
   ]
  },
  {
   "cell_type": "code",
   "execution_count": 15,
   "id": "continent-hands",
   "metadata": {
    "execution": {
     "iopub.execute_input": "2021-03-17T10:10:49.913076Z",
     "iopub.status.busy": "2021-03-17T10:10:49.912478Z",
     "iopub.status.idle": "2021-03-17T10:10:49.914957Z",
     "shell.execute_reply": "2021-03-17T10:10:49.914387Z"
    },
    "papermill": {
     "duration": 0.054529,
     "end_time": "2021-03-17T10:10:49.915102",
     "exception": false,
     "start_time": "2021-03-17T10:10:49.860573",
     "status": "completed"
    },
    "tags": []
   },
   "outputs": [],
   "source": [
    "#data_wona.dtypes"
   ]
  },
  {
   "cell_type": "markdown",
   "id": "naked-alert",
   "metadata": {
    "papermill": {
     "duration": 0.048889,
     "end_time": "2021-03-17T10:10:50.012087",
     "exception": false,
     "start_time": "2021-03-17T10:10:49.963198",
     "status": "completed"
    },
    "tags": []
   },
   "source": [
    "## Checking for Target Distribution "
   ]
  },
  {
   "cell_type": "code",
   "execution_count": 16,
   "id": "worst-lecture",
   "metadata": {
    "execution": {
     "iopub.execute_input": "2021-03-17T10:10:50.111437Z",
     "iopub.status.busy": "2021-03-17T10:10:50.110851Z",
     "iopub.status.idle": "2021-03-17T10:10:50.267216Z",
     "shell.execute_reply": "2021-03-17T10:10:50.267722Z"
    },
    "papermill": {
     "duration": 0.207805,
     "end_time": "2021-03-17T10:10:50.267897",
     "exception": false,
     "start_time": "2021-03-17T10:10:50.060092",
     "status": "completed"
    },
    "tags": []
   },
   "outputs": [
    {
     "data": {
      "text/plain": [
       "<AxesSubplot:title={'center':'Distribution of Target Variable'}, xlabel='default', ylabel='count'>"
      ]
     },
     "execution_count": 16,
     "metadata": {},
     "output_type": "execute_result"
    },
    {
     "data": {
      "image/png": "[encoded data removed]",
      "text/plain": [
       "<Figure size 720x504 with 1 Axes>"
      ]
     },
     "metadata": {
      "needs_background": "light"
     },
     "output_type": "display_data"
    }
   ],
   "source": [
    "plt.figure(figsize=(10,7))\n",
    "plt.title(\"Distribution of Target Variable\")\n",
    "sns.countplot(data_wona['default'])\n",
    "#plt.legend()"
   ]
  },
  {
   "cell_type": "code",
   "execution_count": 17,
   "id": "understanding-focus",
   "metadata": {
    "execution": {
     "iopub.execute_input": "2021-03-17T10:10:50.371671Z",
     "iopub.status.busy": "2021-03-17T10:10:50.371012Z",
     "iopub.status.idle": "2021-03-17T10:10:50.399992Z",
     "shell.execute_reply": "2021-03-17T10:10:50.401008Z"
    },
    "papermill": {
     "duration": 0.084238,
     "end_time": "2021-03-17T10:10:50.401183",
     "exception": false,
     "start_time": "2021-03-17T10:10:50.316945",
     "status": "completed"
    },
    "tags": []
   },
   "outputs": [
    {
     "name": "stdout",
     "output_type": "stream",
     "text": [
      "Count of 0_targets: 517 \n",
      "Count of 1_targets: 183 \n",
      "Percent of 1_targets: 26.142857142857146\n"
     ]
    }
   ],
   "source": [
    "print('Count of 0_targets:',((data_wona['default']==0).sum()), \n",
    "      '\\nCount of 1_targets:' , ((data_wona['default']==1).sum()),\n",
    "     '\\nPercent of 1_targets:' , ((data_wona['default']==1).sum()/data_wona.shape[0]*100))"
   ]
  },
  {
   "cell_type": "code",
   "execution_count": 18,
   "id": "successful-intelligence",
   "metadata": {
    "execution": {
     "iopub.execute_input": "2021-03-17T10:10:50.508377Z",
     "iopub.status.busy": "2021-03-17T10:10:50.507776Z",
     "iopub.status.idle": "2021-03-17T10:10:50.510781Z",
     "shell.execute_reply": "2021-03-17T10:10:50.510236Z"
    },
    "papermill": {
     "duration": 0.060085,
     "end_time": "2021-03-17T10:10:50.510925",
     "exception": false,
     "start_time": "2021-03-17T10:10:50.450840",
     "status": "completed"
    },
    "tags": []
   },
   "outputs": [],
   "source": [
    "t0 = data_wona.iloc[:,0:8][data_wona['default'] == 0]\n",
    "t1 = data_wona.iloc[:,0:8][data_wona['default'] == 1]"
   ]
  },
  {
   "cell_type": "code",
   "execution_count": 19,
   "id": "vulnerable-livestock",
   "metadata": {
    "execution": {
     "iopub.execute_input": "2021-03-17T10:10:50.613630Z",
     "iopub.status.busy": "2021-03-17T10:10:50.612994Z",
     "iopub.status.idle": "2021-03-17T10:10:52.434822Z",
     "shell.execute_reply": "2021-03-17T10:10:52.435306Z"
    },
    "papermill": {
     "duration": 1.875326,
     "end_time": "2021-03-17T10:10:52.435491",
     "exception": false,
     "start_time": "2021-03-17T10:10:50.560165",
     "status": "completed"
    },
    "tags": []
   },
   "outputs": [
    {
     "data": {
      "image/png": "[encoded data removed]",
      "text/plain": [
       "<Figure size 1440x1152 with 8 Axes>"
      ]
     },
     "metadata": {
      "needs_background": "light"
     },
     "output_type": "display_data"
    }
   ],
   "source": [
    "plt.figure(figsize=(20,16))\n",
    "for i,col in enumerate(list(data_wona.columns)[0:8]):\n",
    "    plt.subplot(4,5,i+1)\n",
    "    plt.hist(t0[col],label = 'Not Defaulted', color = 'blue')\n",
    "    plt.hist(t1[col],label = 'Defaulted', color = 'Green')\n",
    "    plt.title(col)\n",
    "    plt.tight_layout()\n",
    "    plt.legend()"
   ]
  },
  {
   "cell_type": "code",
   "execution_count": 20,
   "id": "concerned-toilet",
   "metadata": {
    "execution": {
     "iopub.execute_input": "2021-03-17T10:10:52.541681Z",
     "iopub.status.busy": "2021-03-17T10:10:52.541076Z",
     "iopub.status.idle": "2021-03-17T10:10:54.025510Z",
     "shell.execute_reply": "2021-03-17T10:10:54.025953Z"
    },
    "papermill": {
     "duration": 1.539198,
     "end_time": "2021-03-17T10:10:54.026134",
     "exception": false,
     "start_time": "2021-03-17T10:10:52.486936",
     "status": "completed"
    },
    "tags": []
   },
   "outputs": [
    {
     "data": {
      "image/png": "[encoded data removed]",
      "text/plain": [
       "<Figure size 1440x1152 with 8 Axes>"
      ]
     },
     "metadata": {
      "needs_background": "light"
     },
     "output_type": "display_data"
    }
   ],
   "source": [
    "plt.figure(figsize=(20,16))\n",
    "for i,col in enumerate(list(data_wona.columns)[0:8]):\n",
    "    plt.subplot(4,5,i+1)\n",
    "    plt.hist(data_wona[col])\n",
    "    plt.title(col)\n",
    "    plt.tight_layout()\n",
    "    "
   ]
  },
  {
   "cell_type": "code",
   "execution_count": 21,
   "id": "advisory-month",
   "metadata": {
    "execution": {
     "iopub.execute_input": "2021-03-17T10:10:54.139569Z",
     "iopub.status.busy": "2021-03-17T10:10:54.138923Z",
     "iopub.status.idle": "2021-03-17T10:10:54.527800Z",
     "shell.execute_reply": "2021-03-17T10:10:54.527152Z"
    },
    "papermill": {
     "duration": 0.448985,
     "end_time": "2021-03-17T10:10:54.527940",
     "exception": false,
     "start_time": "2021-03-17T10:10:54.078955",
     "status": "completed"
    },
    "tags": []
   },
   "outputs": [
    {
     "data": {
      "text/plain": [
       "<matplotlib.legend.Legend at 0x17e05d4b0c8>"
      ]
     },
     "execution_count": 21,
     "metadata": {},
     "output_type": "execute_result"
    },
    {
     "data": {
      "image/png": "[encoded data removed]",
      "text/plain": [
       "<Figure size 864x576 with 1 Axes>"
      ]
     },
     "metadata": {
      "needs_background": "light"
     },
     "output_type": "display_data"
    }
   ],
   "source": [
    "plt.figure(figsize=(12,8))\n",
    "plt.title('Distribution of Mean in Data')\n",
    "sns.distplot(data_wona.iloc[:,:8].mean(axis=1),color='green', bins=100, label='Data Without Missing Values')\n",
    "plt.legend()"
   ]
  },
  {
   "cell_type": "code",
   "execution_count": 22,
   "id": "aware-worry",
   "metadata": {
    "execution": {
     "iopub.execute_input": "2021-03-17T10:10:54.644607Z",
     "iopub.status.busy": "2021-03-17T10:10:54.643677Z",
     "iopub.status.idle": "2021-03-17T10:10:54.648407Z",
     "shell.execute_reply": "2021-03-17T10:10:54.647880Z"
    },
    "papermill": {
     "duration": 0.066592,
     "end_time": "2021-03-17T10:10:54.648644",
     "exception": false,
     "start_time": "2021-03-17T10:10:54.582052",
     "status": "completed"
    },
    "tags": []
   },
   "outputs": [
    {
     "data": {
      "text/plain": [
       "age         34.860000\n",
       "ed           1.722857\n",
       "employ       8.388571\n",
       "address      8.278571\n",
       "income      45.601429\n",
       "debtinc     10.260571\n",
       "creddebt     1.553553\n",
       "othdebt      3.058209\n",
       "dtype: float64"
      ]
     },
     "execution_count": 22,
     "metadata": {},
     "output_type": "execute_result"
    }
   ],
   "source": [
    "data_wona.iloc[:,:8].mean(axis=0)"
   ]
  },
  {
   "cell_type": "code",
   "execution_count": 23,
   "id": "handy-nutrition",
   "metadata": {
    "execution": {
     "iopub.execute_input": "2021-03-17T10:10:54.790844Z",
     "iopub.status.busy": "2021-03-17T10:10:54.776756Z",
     "iopub.status.idle": "2021-03-17T10:10:55.142673Z",
     "shell.execute_reply": "2021-03-17T10:10:55.142022Z"
    },
    "papermill": {
     "duration": 0.440368,
     "end_time": "2021-03-17T10:10:55.142816",
     "exception": false,
     "start_time": "2021-03-17T10:10:54.702448",
     "status": "completed"
    },
    "tags": []
   },
   "outputs": [
    {
     "data": {
      "text/plain": [
       "<matplotlib.legend.Legend at 0x17e05f14288>"
      ]
     },
     "execution_count": 23,
     "metadata": {},
     "output_type": "execute_result"
    },
    {
     "data": {
      "image/png": "[encoded data removed]",
      "text/plain": [
       "<Figure size 864x576 with 1 Axes>"
      ]
     },
     "metadata": {
      "needs_background": "light"
     },
     "output_type": "display_data"
    }
   ],
   "source": [
    "plt.figure(figsize=(12,8))\n",
    "plt.title('Distribution of Median in Data')\n",
    "sns.distplot(data_wona.iloc[:,:8].median(axis=1),color='green', bins=100, label='Data Without Missing Values')\n",
    "plt.legend()"
   ]
  },
  {
   "cell_type": "code",
   "execution_count": 24,
   "id": "independent-block",
   "metadata": {
    "execution": {
     "iopub.execute_input": "2021-03-17T10:10:55.276123Z",
     "iopub.status.busy": "2021-03-17T10:10:55.275116Z",
     "iopub.status.idle": "2021-03-17T10:10:55.634986Z",
     "shell.execute_reply": "2021-03-17T10:10:55.633893Z"
    },
    "papermill": {
     "duration": 0.434389,
     "end_time": "2021-03-17T10:10:55.635517",
     "exception": false,
     "start_time": "2021-03-17T10:10:55.201128",
     "status": "completed"
    },
    "tags": []
   },
   "outputs": [
    {
     "data": {
      "text/plain": [
       "<matplotlib.legend.Legend at 0x17e0679a2c8>"
      ]
     },
     "execution_count": 24,
     "metadata": {},
     "output_type": "execute_result"
    },
    {
     "data": {
      "image/png": "[encoded data removed]",
      "text/plain": [
       "<Figure size 864x576 with 1 Axes>"
      ]
     },
     "metadata": {
      "needs_background": "light"
     },
     "output_type": "display_data"
    }
   ],
   "source": [
    "plt.figure(figsize=(12,8))\n",
    "plt.title('Distribution of Standard Deviation in Data')\n",
    "sns.distplot(data_wona.iloc[:,:8].std(axis=1),color='green', bins=100, label='Data Without Missing Values')\n",
    "plt.legend()"
   ]
  },
  {
   "cell_type": "code",
   "execution_count": 25,
   "id": "least-alfred",
   "metadata": {
    "execution": {
     "iopub.execute_input": "2021-03-17T10:10:55.775608Z",
     "iopub.status.busy": "2021-03-17T10:10:55.774749Z",
     "iopub.status.idle": "2021-03-17T10:10:56.110309Z",
     "shell.execute_reply": "2021-03-17T10:10:56.109092Z"
    },
    "papermill": {
     "duration": 0.418289,
     "end_time": "2021-03-17T10:10:56.110481",
     "exception": false,
     "start_time": "2021-03-17T10:10:55.692192",
     "status": "completed"
    },
    "tags": []
   },
   "outputs": [
    {
     "data": {
      "text/plain": [
       "<matplotlib.legend.Legend at 0x17e05ecb388>"
      ]
     },
     "execution_count": 25,
     "metadata": {},
     "output_type": "execute_result"
    },
    {
     "data": {
      "image/png": "[encoded data removed]",
      "text/plain": [
       "<Figure size 864x576 with 1 Axes>"
      ]
     },
     "metadata": {
      "needs_background": "light"
     },
     "output_type": "display_data"
    }
   ],
   "source": [
    "plt.figure(figsize=(12,8))\n",
    "plt.title('Distribution of Minimum in Data')\n",
    "sns.distplot(data_wona.iloc[:,:8].min(axis=1),color='green', bins=100, label='Data Without Missing Values')\n",
    "plt.legend()"
   ]
  },
  {
   "cell_type": "code",
   "execution_count": 26,
   "id": "meaningful-format",
   "metadata": {
    "execution": {
     "iopub.execute_input": "2021-03-17T10:10:56.248064Z",
     "iopub.status.busy": "2021-03-17T10:10:56.247440Z",
     "iopub.status.idle": "2021-03-17T10:10:56.596647Z",
     "shell.execute_reply": "2021-03-17T10:10:56.597052Z"
    },
    "papermill": {
     "duration": 0.427309,
     "end_time": "2021-03-17T10:10:56.597267",
     "exception": false,
     "start_time": "2021-03-17T10:10:56.169958",
     "status": "completed"
    },
    "tags": []
   },
   "outputs": [
    {
     "data": {
      "text/plain": [
       "<matplotlib.legend.Legend at 0x17e05d424c8>"
      ]
     },
     "execution_count": 26,
     "metadata": {},
     "output_type": "execute_result"
    },
    {
     "data": {
      "image/png": "[encoded data removed]",
      "text/plain": [
       "<Figure size 864x576 with 1 Axes>"
      ]
     },
     "metadata": {
      "needs_background": "light"
     },
     "output_type": "display_data"
    }
   ],
   "source": [
    "plt.figure(figsize=(12,8))\n",
    "plt.title('Distribution of Maximum in Data')\n",
    "sns.distplot(data_wona.iloc[:,:8].max(axis=1),color='green', bins=100, label='Data Without Missing Values')\n",
    "plt.legend()"
   ]
  },
  {
   "cell_type": "markdown",
   "id": "ethical-still",
   "metadata": {
    "papermill": {
     "duration": 0.059171,
     "end_time": "2021-03-17T10:10:56.717759",
     "exception": false,
     "start_time": "2021-03-17T10:10:56.658588",
     "status": "completed"
    },
    "tags": []
   },
   "source": [
    "## Checking for Correlations "
   ]
  },
  {
   "cell_type": "code",
   "execution_count": 27,
   "id": "accomplished-transsexual",
   "metadata": {
    "execution": {
     "iopub.execute_input": "2021-03-17T10:10:56.853823Z",
     "iopub.status.busy": "2021-03-17T10:10:56.853184Z",
     "iopub.status.idle": "2021-03-17T10:10:56.858599Z",
     "shell.execute_reply": "2021-03-17T10:10:56.857997Z"
    },
    "papermill": {
     "duration": 0.082083,
     "end_time": "2021-03-17T10:10:56.858743",
     "exception": false,
     "start_time": "2021-03-17T10:10:56.776660",
     "status": "completed"
    },
    "tags": []
   },
   "outputs": [
    {
     "data": {
      "text/html": [
       "<div>\n",
       "<style scoped>\n",
       "    .dataframe tbody tr th:only-of-type {\n",
       "        vertical-align: middle;\n",
       "    }\n",
       "\n",
       "    .dataframe tbody tr th {\n",
       "        vertical-align: top;\n",
       "    }\n",
       "\n",
       "    .dataframe thead th {\n",
       "        text-align: right;\n",
       "    }\n",
       "</style>\n",
       "<table border=\"1\" class=\"dataframe\">\n",
       "  <thead>\n",
       "    <tr style=\"text-align: right;\">\n",
       "      <th></th>\n",
       "      <th>age</th>\n",
       "      <th>ed</th>\n",
       "      <th>employ</th>\n",
       "      <th>address</th>\n",
       "      <th>income</th>\n",
       "      <th>debtinc</th>\n",
       "      <th>creddebt</th>\n",
       "      <th>othdebt</th>\n",
       "      <th>default</th>\n",
       "    </tr>\n",
       "  </thead>\n",
       "  <tbody>\n",
       "    <tr>\n",
       "      <th>age</th>\n",
       "      <td>1.000000</td>\n",
       "      <td>0.022325</td>\n",
       "      <td>0.536497</td>\n",
       "      <td>0.597591</td>\n",
       "      <td>0.478710</td>\n",
       "      <td>0.016398</td>\n",
       "      <td>0.295207</td>\n",
       "      <td>0.340217</td>\n",
       "      <td>-0.137657</td>\n",
       "    </tr>\n",
       "    <tr>\n",
       "      <th>ed</th>\n",
       "      <td>0.022325</td>\n",
       "      <td>1.000000</td>\n",
       "      <td>-0.153621</td>\n",
       "      <td>0.056919</td>\n",
       "      <td>0.235190</td>\n",
       "      <td>0.008838</td>\n",
       "      <td>0.088274</td>\n",
       "      <td>0.165459</td>\n",
       "      <td>0.114676</td>\n",
       "    </tr>\n",
       "    <tr>\n",
       "      <th>employ</th>\n",
       "      <td>0.536497</td>\n",
       "      <td>-0.153621</td>\n",
       "      <td>1.000000</td>\n",
       "      <td>0.322334</td>\n",
       "      <td>0.619681</td>\n",
       "      <td>-0.031182</td>\n",
       "      <td>0.403694</td>\n",
       "      <td>0.406091</td>\n",
       "      <td>-0.282978</td>\n",
       "    </tr>\n",
       "    <tr>\n",
       "      <th>address</th>\n",
       "      <td>0.597591</td>\n",
       "      <td>0.056919</td>\n",
       "      <td>0.322334</td>\n",
       "      <td>1.000000</td>\n",
       "      <td>0.316245</td>\n",
       "      <td>0.011323</td>\n",
       "      <td>0.208435</td>\n",
       "      <td>0.226514</td>\n",
       "      <td>-0.164451</td>\n",
       "    </tr>\n",
       "    <tr>\n",
       "      <th>income</th>\n",
       "      <td>0.478710</td>\n",
       "      <td>0.235190</td>\n",
       "      <td>0.619681</td>\n",
       "      <td>0.316245</td>\n",
       "      <td>1.000000</td>\n",
       "      <td>-0.026777</td>\n",
       "      <td>0.570199</td>\n",
       "      <td>0.610659</td>\n",
       "      <td>-0.070970</td>\n",
       "    </tr>\n",
       "    <tr>\n",
       "      <th>debtinc</th>\n",
       "      <td>0.016398</td>\n",
       "      <td>0.008838</td>\n",
       "      <td>-0.031182</td>\n",
       "      <td>0.011323</td>\n",
       "      <td>-0.026777</td>\n",
       "      <td>1.000000</td>\n",
       "      <td>0.501767</td>\n",
       "      <td>0.584870</td>\n",
       "      <td>0.389575</td>\n",
       "    </tr>\n",
       "    <tr>\n",
       "      <th>creddebt</th>\n",
       "      <td>0.295207</td>\n",
       "      <td>0.088274</td>\n",
       "      <td>0.403694</td>\n",
       "      <td>0.208435</td>\n",
       "      <td>0.570199</td>\n",
       "      <td>0.501767</td>\n",
       "      <td>1.000000</td>\n",
       "      <td>0.633104</td>\n",
       "      <td>0.244740</td>\n",
       "    </tr>\n",
       "    <tr>\n",
       "      <th>othdebt</th>\n",
       "      <td>0.340217</td>\n",
       "      <td>0.165459</td>\n",
       "      <td>0.406091</td>\n",
       "      <td>0.226514</td>\n",
       "      <td>0.610659</td>\n",
       "      <td>0.584870</td>\n",
       "      <td>0.633104</td>\n",
       "      <td>1.000000</td>\n",
       "      <td>0.145713</td>\n",
       "    </tr>\n",
       "    <tr>\n",
       "      <th>default</th>\n",
       "      <td>-0.137657</td>\n",
       "      <td>0.114676</td>\n",
       "      <td>-0.282978</td>\n",
       "      <td>-0.164451</td>\n",
       "      <td>-0.070970</td>\n",
       "      <td>0.389575</td>\n",
       "      <td>0.244740</td>\n",
       "      <td>0.145713</td>\n",
       "      <td>1.000000</td>\n",
       "    </tr>\n",
       "  </tbody>\n",
       "</table>\n",
       "</div>"
      ],
      "text/plain": [
       "               age        ed    employ   address    income   debtinc  \\\n",
       "age       1.000000  0.022325  0.536497  0.597591  0.478710  0.016398   \n",
       "ed        0.022325  1.000000 -0.153621  0.056919  0.235190  0.008838   \n",
       "employ    0.536497 -0.153621  1.000000  0.322334  0.619681 -0.031182   \n",
       "address   0.597591  0.056919  0.322334  1.000000  0.316245  0.011323   \n",
       "income    0.478710  0.235190  0.619681  0.316245  1.000000 -0.026777   \n",
       "debtinc   0.016398  0.008838 -0.031182  0.011323 -0.026777  1.000000   \n",
       "creddebt  0.295207  0.088274  0.403694  0.208435  0.570199  0.501767   \n",
       "othdebt   0.340217  0.165459  0.406091  0.226514  0.610659  0.584870   \n",
       "default  -0.137657  0.114676 -0.282978 -0.164451 -0.070970  0.389575   \n",
       "\n",
       "          creddebt   othdebt   default  \n",
       "age       0.295207  0.340217 -0.137657  \n",
       "ed        0.088274  0.165459  0.114676  \n",
       "employ    0.403694  0.406091 -0.282978  \n",
       "address   0.208435  0.226514 -0.164451  \n",
       "income    0.570199  0.610659 -0.070970  \n",
       "debtinc   0.501767  0.584870  0.389575  \n",
       "creddebt  1.000000  0.633104  0.244740  \n",
       "othdebt   0.633104  1.000000  0.145713  \n",
       "default   0.244740  0.145713  1.000000  "
      ]
     },
     "execution_count": 27,
     "metadata": {},
     "output_type": "execute_result"
    }
   ],
   "source": [
    "data_wona_corr = data_wona.corr()\n",
    "data_wona_corr"
   ]
  },
  {
   "cell_type": "code",
   "execution_count": 28,
   "id": "selected-melissa",
   "metadata": {
    "execution": {
     "iopub.execute_input": "2021-03-17T10:10:57.161822Z",
     "iopub.status.busy": "2021-03-17T10:10:57.137844Z",
     "iopub.status.idle": "2021-03-17T10:10:57.381307Z",
     "shell.execute_reply": "2021-03-17T10:10:57.381744Z"
    },
    "papermill": {
     "duration": 0.463503,
     "end_time": "2021-03-17T10:10:57.381920",
     "exception": false,
     "start_time": "2021-03-17T10:10:56.918417",
     "status": "completed"
    },
    "tags": []
   },
   "outputs": [
    {
     "data": {
      "text/plain": [
       "<AxesSubplot:>"
      ]
     },
     "execution_count": 28,
     "metadata": {},
     "output_type": "execute_result"
    },
    {
     "data": {
      "image/png": "[encoded data removed]",
      "text/plain": [
       "<Figure size 864x720 with 2 Axes>"
      ]
     },
     "metadata": {
      "needs_background": "light"
     },
     "output_type": "display_data"
    }
   ],
   "source": [
    "#Plotting Heatmap\n",
    "plt.figure(figsize=(12,10))\n",
    "sns.heatmap(data_wona_corr, cmap='Blues')"
   ]
  },
  {
   "cell_type": "markdown",
   "id": "essential-columbia",
   "metadata": {
    "papermill": {
     "duration": 0.061559,
     "end_time": "2021-03-17T10:10:57.503624",
     "exception": false,
     "start_time": "2021-03-17T10:10:57.442065",
     "status": "completed"
    },
    "tags": []
   },
   "source": [
    "## Outlier Analysis"
   ]
  },
  {
   "cell_type": "markdown",
   "id": "stable-implement",
   "metadata": {
    "papermill": {
     "duration": 0.06061,
     "end_time": "2021-03-17T10:10:57.629725",
     "exception": false,
     "start_time": "2021-03-17T10:10:57.569115",
     "status": "completed"
    },
    "tags": []
   },
   "source": [
    "We will use boxplot to graphically see if there are any outliers and then with the help of a function we will detect the outliers"
   ]
  },
  {
   "cell_type": "code",
   "execution_count": 29,
   "id": "pacific-mainstream",
   "metadata": {
    "execution": {
     "iopub.execute_input": "2021-03-17T10:10:57.779108Z",
     "iopub.status.busy": "2021-03-17T10:10:57.778058Z",
     "iopub.status.idle": "2021-03-17T10:10:58.872308Z",
     "shell.execute_reply": "2021-03-17T10:10:58.871679Z"
    },
    "papermill": {
     "duration": 1.17924,
     "end_time": "2021-03-17T10:10:58.872448",
     "exception": false,
     "start_time": "2021-03-17T10:10:57.693208",
     "status": "completed"
    },
    "tags": []
   },
   "outputs": [
    {
     "name": "stderr",
     "output_type": "stream",
     "text": [
      "No handles with labels found to put in legend.\n",
      "No handles with labels found to put in legend.\n",
      "No handles with labels found to put in legend.\n",
      "No handles with labels found to put in legend.\n",
      "No handles with labels found to put in legend.\n",
      "No handles with labels found to put in legend.\n",
      "No handles with labels found to put in legend.\n",
      "No handles with labels found to put in legend.\n"
     ]
    },
    {
     "data": {
      "image/png": "[encoded data removed]",
      "text/plain": [
       "<Figure size 1440x1152 with 8 Axes>"
      ]
     },
     "metadata": {
      "needs_background": "light"
     },
     "output_type": "display_data"
    }
   ],
   "source": [
    "plt.figure(figsize=(20,16))\n",
    "for i,col in enumerate(list(data_wona.columns)[0:8]):\n",
    "    plt.subplot(4,5,i+1)\n",
    "    plt.boxplot(data_wona[col])\n",
    "    plt.title(col)\n",
    "    plt.tight_layout()\n",
    "    plt.legend()"
   ]
  },
  {
   "cell_type": "markdown",
   "id": "legislative-archive",
   "metadata": {
    "papermill": {
     "duration": 0.064317,
     "end_time": "2021-03-17T10:10:59.001935",
     "exception": false,
     "start_time": "2021-03-17T10:10:58.937618",
     "status": "completed"
    },
    "tags": []
   },
   "source": [
    "Using IQR method to find the outliers"
   ]
  },
  {
   "cell_type": "code",
   "execution_count": 30,
   "id": "unauthorized-diploma",
   "metadata": {
    "execution": {
     "iopub.execute_input": "2021-03-17T10:10:59.140100Z",
     "iopub.status.busy": "2021-03-17T10:10:59.139486Z",
     "iopub.status.idle": "2021-03-17T10:10:59.142710Z",
     "shell.execute_reply": "2021-03-17T10:10:59.142221Z"
    },
    "papermill": {
     "duration": 0.075901,
     "end_time": "2021-03-17T10:10:59.142857",
     "exception": false,
     "start_time": "2021-03-17T10:10:59.066956",
     "status": "completed"
    },
    "tags": []
   },
   "outputs": [],
   "source": [
    "def out_IQR(df):\n",
    "    drop_outliers = np.array([])\n",
    "    for i in df.columns:\n",
    "        q1, q3 = np.percentile(df[i],[25,75])\n",
    "        IQR = q3-q1\n",
    "        lower_limit = q1-(1.5*IQR)\n",
    "        upper_limit = q3+(1.5*IQR)\n",
    "        print(type(lower_limit), type(upper_limit),type(df[i]))\n",
    "        indexes = df[(df[i] < lower_limit) | (df[i] > upper_limit)].index\n",
    "        \n",
    "        drop_outliers = np.append(drop_outliers , indexes)\n",
    "    return drop_outliers"
   ]
  },
  {
   "cell_type": "code",
   "execution_count": 31,
   "id": "suspected-native",
   "metadata": {
    "execution": {
     "iopub.execute_input": "2021-03-17T10:10:59.273203Z",
     "iopub.status.busy": "2021-03-17T10:10:59.272563Z",
     "iopub.status.idle": "2021-03-17T10:10:59.274741Z",
     "shell.execute_reply": "2021-03-17T10:10:59.275158Z"
    },
    "papermill": {
     "duration": 0.070322,
     "end_time": "2021-03-17T10:10:59.275327",
     "exception": false,
     "start_time": "2021-03-17T10:10:59.205005",
     "status": "completed"
    },
    "tags": []
   },
   "outputs": [],
   "source": [
    "data_outliers = data_wona.copy()"
   ]
  },
  {
   "cell_type": "code",
   "execution_count": 32,
   "id": "sporting-rover",
   "metadata": {
    "execution": {
     "iopub.execute_input": "2021-03-17T10:10:59.405396Z",
     "iopub.status.busy": "2021-03-17T10:10:59.404690Z",
     "iopub.status.idle": "2021-03-17T10:10:59.430789Z",
     "shell.execute_reply": "2021-03-17T10:10:59.430255Z"
    },
    "papermill": {
     "duration": 0.092536,
     "end_time": "2021-03-17T10:10:59.431096",
     "exception": false,
     "start_time": "2021-03-17T10:10:59.338560",
     "status": "completed"
    },
    "tags": []
   },
   "outputs": [
    {
     "name": "stdout",
     "output_type": "stream",
     "text": [
      "<class 'numpy.float64'> <class 'numpy.float64'> <class 'pandas.core.series.Series'>\n",
      "<class 'numpy.float64'> <class 'numpy.float64'> <class 'pandas.core.series.Series'>\n",
      "<class 'numpy.float64'> <class 'numpy.float64'> <class 'pandas.core.series.Series'>\n",
      "<class 'numpy.float64'> <class 'numpy.float64'> <class 'pandas.core.series.Series'>\n",
      "<class 'numpy.float64'> <class 'numpy.float64'> <class 'pandas.core.series.Series'>\n",
      "<class 'numpy.float64'> <class 'numpy.float64'> <class 'pandas.core.series.Series'>\n",
      "<class 'numpy.float64'> <class 'numpy.float64'> <class 'pandas.core.series.Series'>\n",
      "<class 'numpy.float64'> <class 'numpy.float64'> <class 'pandas.core.series.Series'>\n"
     ]
    },
    {
     "data": {
      "text/plain": [
       "(148,)"
      ]
     },
     "execution_count": 32,
     "metadata": {},
     "output_type": "execute_result"
    }
   ],
   "source": [
    "outliers = np.unique(out_IQR(data_outliers.iloc[:,:8]))\n",
    "outliers.shape"
   ]
  },
  {
   "cell_type": "code",
   "execution_count": 33,
   "id": "hazardous-center",
   "metadata": {
    "execution": {
     "iopub.execute_input": "2021-03-17T10:10:59.567702Z",
     "iopub.status.busy": "2021-03-17T10:10:59.567029Z",
     "iopub.status.idle": "2021-03-17T10:10:59.570113Z",
     "shell.execute_reply": "2021-03-17T10:10:59.570590Z"
    },
    "papermill": {
     "duration": 0.075494,
     "end_time": "2021-03-17T10:10:59.570756",
     "exception": false,
     "start_time": "2021-03-17T10:10:59.495262",
     "status": "completed"
    },
    "tags": []
   },
   "outputs": [],
   "source": [
    "data_outliers.drop(outliers, inplace = True)"
   ]
  },
  {
   "cell_type": "code",
   "execution_count": 34,
   "id": "recent-mobility",
   "metadata": {
    "execution": {
     "iopub.execute_input": "2021-03-17T10:10:59.704144Z",
     "iopub.status.busy": "2021-03-17T10:10:59.703549Z",
     "iopub.status.idle": "2021-03-17T10:10:59.707197Z",
     "shell.execute_reply": "2021-03-17T10:10:59.707648Z"
    },
    "papermill": {
     "duration": 0.073166,
     "end_time": "2021-03-17T10:10:59.707821",
     "exception": false,
     "start_time": "2021-03-17T10:10:59.634655",
     "status": "completed"
    },
    "tags": []
   },
   "outputs": [
    {
     "data": {
      "text/plain": [
       "(552, 9)"
      ]
     },
     "execution_count": 34,
     "metadata": {},
     "output_type": "execute_result"
    }
   ],
   "source": [
    "data_outliers.shape"
   ]
  },
  {
   "cell_type": "code",
   "execution_count": 35,
   "id": "southern-probe",
   "metadata": {
    "execution": {
     "iopub.execute_input": "2021-03-17T10:10:59.844132Z",
     "iopub.status.busy": "2021-03-17T10:10:59.843247Z",
     "iopub.status.idle": "2021-03-17T10:10:59.848317Z",
     "shell.execute_reply": "2021-03-17T10:10:59.847717Z"
    },
    "papermill": {
     "duration": 0.076889,
     "end_time": "2021-03-17T10:10:59.848468",
     "exception": false,
     "start_time": "2021-03-17T10:10:59.771579",
     "status": "completed"
    },
    "tags": []
   },
   "outputs": [
    {
     "data": {
      "text/plain": [
       "age         134\n",
       "ed          134\n",
       "employ      134\n",
       "address     134\n",
       "income      134\n",
       "debtinc     134\n",
       "creddebt    134\n",
       "othdebt     134\n",
       "default     134\n",
       "dtype: int64"
      ]
     },
     "execution_count": 35,
     "metadata": {},
     "output_type": "execute_result"
    }
   ],
   "source": [
    "data_outliers[data_outliers['default'] == 1].count()"
   ]
  },
  {
   "cell_type": "code",
   "execution_count": 36,
   "id": "handed-batch",
   "metadata": {
    "execution": {
     "iopub.execute_input": "2021-03-17T10:10:59.988647Z",
     "iopub.status.busy": "2021-03-17T10:10:59.987811Z",
     "iopub.status.idle": "2021-03-17T10:10:59.992399Z",
     "shell.execute_reply": "2021-03-17T10:10:59.991868Z"
    },
    "papermill": {
     "duration": 0.078508,
     "end_time": "2021-03-17T10:10:59.992554",
     "exception": false,
     "start_time": "2021-03-17T10:10:59.914046",
     "status": "completed"
    },
    "tags": []
   },
   "outputs": [
    {
     "data": {
      "text/plain": [
       "age         183\n",
       "ed          183\n",
       "employ      183\n",
       "address     183\n",
       "income      183\n",
       "debtinc     183\n",
       "creddebt    183\n",
       "othdebt     183\n",
       "default     183\n",
       "dtype: int64"
      ]
     },
     "execution_count": 36,
     "metadata": {},
     "output_type": "execute_result"
    }
   ],
   "source": [
    "data_wona[data_wona['default'] == 1].count()"
   ]
  },
  {
   "cell_type": "markdown",
   "id": "square-oriental",
   "metadata": {
    "papermill": {
     "duration": 0.06524,
     "end_time": "2021-03-17T10:11:00.124495",
     "exception": false,
     "start_time": "2021-03-17T10:11:00.059255",
     "status": "completed"
    },
    "tags": []
   },
   "source": [
    "We can see from above counts of default variable, almost 25 to 30% entries of default = 1 were outliers. Hence we will not be dropping outiers as it signifies that outliers play important role in this case to find out defaulters."
   ]
  },
  {
   "cell_type": "markdown",
   "id": "bored-rebel",
   "metadata": {
    "papermill": {
     "duration": 0.064999,
     "end_time": "2021-03-17T10:11:00.254645",
     "exception": false,
     "start_time": "2021-03-17T10:11:00.189646",
     "status": "completed"
    },
    "tags": []
   },
   "source": [
    "# PCA"
   ]
  },
  {
   "cell_type": "code",
   "execution_count": 37,
   "id": "extraordinary-peoples",
   "metadata": {
    "execution": {
     "iopub.execute_input": "2021-03-17T10:11:00.389071Z",
     "iopub.status.busy": "2021-03-17T10:11:00.388481Z",
     "iopub.status.idle": "2021-03-17T10:11:00.580536Z",
     "shell.execute_reply": "2021-03-17T10:11:00.579868Z"
    },
    "papermill": {
     "duration": 0.260603,
     "end_time": "2021-03-17T10:11:00.580694",
     "exception": false,
     "start_time": "2021-03-17T10:11:00.320091",
     "status": "completed"
    },
    "tags": []
   },
   "outputs": [],
   "source": [
    "from sklearn.preprocessing import StandardScaler"
   ]
  },
  {
   "cell_type": "code",
   "execution_count": 38,
   "id": "brilliant-convergence",
   "metadata": {
    "execution": {
     "iopub.execute_input": "2021-03-17T10:11:00.742523Z",
     "iopub.status.busy": "2021-03-17T10:11:00.739375Z",
     "iopub.status.idle": "2021-03-17T10:11:00.747157Z",
     "shell.execute_reply": "2021-03-17T10:11:00.746669Z"
    },
    "papermill": {
     "duration": 0.081601,
     "end_time": "2021-03-17T10:11:00.747296",
     "exception": false,
     "start_time": "2021-03-17T10:11:00.665695",
     "status": "completed"
    },
    "tags": []
   },
   "outputs": [
    {
     "data": {
      "text/plain": [
       "((700, 8), numpy.ndarray)"
      ]
     },
     "execution_count": 38,
     "metadata": {},
     "output_type": "execute_result"
    }
   ],
   "source": [
    "scaler = StandardScaler()\n",
    "scaled_data = scaler.fit_transform(data_wona.iloc[:,:8])\n",
    "scaled_data.shape, type(scaled_data)"
   ]
  },
  {
   "cell_type": "code",
   "execution_count": 39,
   "id": "objective-africa",
   "metadata": {
    "execution": {
     "iopub.execute_input": "2021-03-17T10:11:00.881320Z",
     "iopub.status.busy": "2021-03-17T10:11:00.880605Z",
     "iopub.status.idle": "2021-03-17T10:11:01.099384Z",
     "shell.execute_reply": "2021-03-17T10:11:01.098853Z"
    },
    "papermill": {
     "duration": 0.287451,
     "end_time": "2021-03-17T10:11:01.099557",
     "exception": false,
     "start_time": "2021-03-17T10:11:00.812106",
     "status": "completed"
    },
    "tags": []
   },
   "outputs": [],
   "source": [
    "from sklearn.decomposition import PCA"
   ]
  },
  {
   "cell_type": "code",
   "execution_count": 40,
   "id": "cloudy-fighter",
   "metadata": {
    "execution": {
     "iopub.execute_input": "2021-03-17T10:11:01.241336Z",
     "iopub.status.busy": "2021-03-17T10:11:01.240102Z",
     "iopub.status.idle": "2021-03-17T10:11:01.260995Z",
     "shell.execute_reply": "2021-03-17T10:11:01.262424Z"
    },
    "papermill": {
     "duration": 0.096511,
     "end_time": "2021-03-17T10:11:01.262720",
     "exception": false,
     "start_time": "2021-03-17T10:11:01.166209",
     "status": "completed"
    },
    "tags": []
   },
   "outputs": [
    {
     "data": {
      "text/plain": [
       "(700, 2)"
      ]
     },
     "execution_count": 40,
     "metadata": {},
     "output_type": "execute_result"
    }
   ],
   "source": [
    "#Calculating PCA with 2 Principal Components. \n",
    "pca = PCA(n_components = 2)\n",
    "pca.fit(scaled_data)\n",
    "pca_data = pca.transform(scaled_data)\n",
    "pca_data.shape"
   ]
  },
  {
   "cell_type": "code",
   "execution_count": 41,
   "id": "dated-digit",
   "metadata": {
    "execution": {
     "iopub.execute_input": "2021-03-17T10:11:01.445768Z",
     "iopub.status.busy": "2021-03-17T10:11:01.444747Z",
     "iopub.status.idle": "2021-03-17T10:11:01.447733Z",
     "shell.execute_reply": "2021-03-17T10:11:01.447235Z"
    },
    "papermill": {
     "duration": 0.074058,
     "end_time": "2021-03-17T10:11:01.447877",
     "exception": false,
     "start_time": "2021-03-17T10:11:01.373819",
     "status": "completed"
    },
    "tags": []
   },
   "outputs": [],
   "source": [
    "data_labels = data_wona.iloc[:,[8]]\n",
    "data_feat = data_wona.iloc[:,:8]\n"
   ]
  },
  {
   "cell_type": "code",
   "execution_count": 42,
   "id": "retained-accused",
   "metadata": {
    "execution": {
     "iopub.execute_input": "2021-03-17T10:11:01.584793Z",
     "iopub.status.busy": "2021-03-17T10:11:01.584193Z",
     "iopub.status.idle": "2021-03-17T10:11:01.586373Z",
     "shell.execute_reply": "2021-03-17T10:11:01.586798Z"
    },
    "papermill": {
     "duration": 0.072642,
     "end_time": "2021-03-17T10:11:01.586964",
     "exception": false,
     "start_time": "2021-03-17T10:11:01.514322",
     "status": "completed"
    },
    "tags": []
   },
   "outputs": [],
   "source": [
    "#data_feat.head() \n",
    "#data_labels"
   ]
  },
  {
   "cell_type": "code",
   "execution_count": 43,
   "id": "skilled-engagement",
   "metadata": {
    "execution": {
     "iopub.execute_input": "2021-03-17T10:11:01.720926Z",
     "iopub.status.busy": "2021-03-17T10:11:01.720279Z",
     "iopub.status.idle": "2021-03-17T10:11:01.910747Z",
     "shell.execute_reply": "2021-03-17T10:11:01.911196Z"
    },
    "papermill": {
     "duration": 0.259716,
     "end_time": "2021-03-17T10:11:01.911356",
     "exception": false,
     "start_time": "2021-03-17T10:11:01.651640",
     "status": "completed"
    },
    "tags": []
   },
   "outputs": [
    {
     "name": "stderr",
     "output_type": "stream",
     "text": [
      "No handles with labels found to put in legend.\n"
     ]
    },
    {
     "data": {
      "image/png": "[encoded data removed]",
      "text/plain": [
       "<Figure size 720x720 with 1 Axes>"
      ]
     },
     "metadata": {
      "needs_background": "light"
     },
     "output_type": "display_data"
    }
   ],
   "source": [
    "#Visualizing the PCA with 2 principal components and with target variable\n",
    "plt.figure(figsize = (10,10))\n",
    "plt.scatter(pca_data[:,0], pca_data[:,1], c = data_labels['default'])\n",
    "plt.title('Principal Component Analysis for 2 Principal Components')\n",
    "plt.xlabel('First Principal Component')\n",
    "plt.ylabel('Second Principal Component')\n",
    "plt.legend()\n",
    "plt.show()"
   ]
  },
  {
   "cell_type": "code",
   "execution_count": 44,
   "id": "bulgarian-genealogy",
   "metadata": {
    "execution": {
     "iopub.execute_input": "2021-03-17T10:11:02.051446Z",
     "iopub.status.busy": "2021-03-17T10:11:02.050847Z",
     "iopub.status.idle": "2021-03-17T10:11:02.056419Z",
     "shell.execute_reply": "2021-03-17T10:11:02.057043Z"
    },
    "papermill": {
     "duration": 0.077691,
     "end_time": "2021-03-17T10:11:02.057281",
     "exception": false,
     "start_time": "2021-03-17T10:11:01.979590",
     "status": "completed"
    },
    "tags": []
   },
   "outputs": [
    {
     "name": "stdout",
     "output_type": "stream",
     "text": [
      "4.888336304355215\n"
     ]
    }
   ],
   "source": [
    "print((pca.explained_variance_).sum())"
   ]
  },
  {
   "cell_type": "markdown",
   "id": "relative-topic",
   "metadata": {
    "papermill": {
     "duration": 0.070466,
     "end_time": "2021-03-17T10:11:02.197143",
     "exception": false,
     "start_time": "2021-03-17T10:11:02.126677",
     "status": "completed"
    },
    "tags": []
   },
   "source": [
    "# Modeling"
   ]
  },
  {
   "cell_type": "code",
   "execution_count": 45,
   "id": "soviet-drawing",
   "metadata": {
    "execution": {
     "iopub.execute_input": "2021-03-17T10:11:02.340559Z",
     "iopub.status.busy": "2021-03-17T10:11:02.339918Z",
     "iopub.status.idle": "2021-03-17T10:11:02.343635Z",
     "shell.execute_reply": "2021-03-17T10:11:02.343113Z"
    },
    "papermill": {
     "duration": 0.07724,
     "end_time": "2021-03-17T10:11:02.343778",
     "exception": false,
     "start_time": "2021-03-17T10:11:02.266538",
     "status": "completed"
    },
    "tags": []
   },
   "outputs": [],
   "source": [
    "#scaled_data.shape"
   ]
  },
  {
   "cell_type": "code",
   "execution_count": 46,
   "id": "banner-helping",
   "metadata": {
    "execution": {
     "iopub.execute_input": "2021-03-17T10:11:02.489341Z",
     "iopub.status.busy": "2021-03-17T10:11:02.487584Z",
     "iopub.status.idle": "2021-03-17T10:11:02.494908Z",
     "shell.execute_reply": "2021-03-17T10:11:02.494302Z"
    },
    "papermill": {
     "duration": 0.082532,
     "end_time": "2021-03-17T10:11:02.495042",
     "exception": false,
     "start_time": "2021-03-17T10:11:02.412510",
     "status": "completed"
    },
    "tags": []
   },
   "outputs": [
    {
     "data": {
      "text/plain": [
       "((560, 8), (140, 8), (560, 1), (140, 1))"
      ]
     },
     "execution_count": 46,
     "metadata": {},
     "output_type": "execute_result"
    }
   ],
   "source": [
    "#Train Test Split:\n",
    "from sklearn.model_selection import train_test_split\n",
    "X_train, X_test, y_train, y_test = train_test_split(scaled_data , data_wona.iloc[:,[8]] , test_size = 0.2, random_state = 42)\n",
    "\n",
    "X_train.shape, X_test.shape ,y_train.shape, y_test.shape"
   ]
  },
  {
   "cell_type": "markdown",
   "id": "polar-blend",
   "metadata": {
    "papermill": {
     "duration": 0.074312,
     "end_time": "2021-03-17T10:11:02.638935",
     "exception": false,
     "start_time": "2021-03-17T10:11:02.564623",
     "status": "completed"
    },
    "tags": []
   },
   "source": [
    "# Logistic Regression"
   ]
  },
  {
   "cell_type": "code",
   "execution_count": 47,
   "id": "major-affect",
   "metadata": {
    "execution": {
     "iopub.execute_input": "2021-03-17T10:11:02.782147Z",
     "iopub.status.busy": "2021-03-17T10:11:02.781539Z",
     "iopub.status.idle": "2021-03-17T10:11:02.784778Z",
     "shell.execute_reply": "2021-03-17T10:11:02.784266Z"
    },
    "papermill": {
     "duration": 0.076112,
     "end_time": "2021-03-17T10:11:02.784913",
     "exception": false,
     "start_time": "2021-03-17T10:11:02.708801",
     "status": "completed"
    },
    "tags": []
   },
   "outputs": [],
   "source": [
    "from sklearn.linear_model import LogisticRegression\n",
    "from sklearn.metrics import f1_score, accuracy_score, confusion_matrix, roc_auc_score\n",
    "from sklearn.metrics import roc_curve, auc"
   ]
  },
  {
   "cell_type": "code",
   "execution_count": 48,
   "id": "liable-southeast",
   "metadata": {
    "execution": {
     "iopub.execute_input": "2021-03-17T10:11:02.933752Z",
     "iopub.status.busy": "2021-03-17T10:11:02.932959Z",
     "iopub.status.idle": "2021-03-17T10:11:02.957450Z",
     "shell.execute_reply": "2021-03-17T10:11:02.956948Z"
    },
    "papermill": {
     "duration": 0.103629,
     "end_time": "2021-03-17T10:11:02.957612",
     "exception": false,
     "start_time": "2021-03-17T10:11:02.853983",
     "status": "completed"
    },
    "tags": []
   },
   "outputs": [
    {
     "name": "stdout",
     "output_type": "stream",
     "text": [
      "The f1 score for the training data: 0.540084388185654\n",
      "The f1 score for the testing data: 0.6875\n",
      "The AUC for train data: 0.845\n",
      "The AUC for test data: 0.911\n"
     ]
    }
   ],
   "source": [
    "lr = LogisticRegression()\n",
    "lr.fit(X_train, y_train)\n",
    "\n",
    "#Predicting on training and test data\n",
    "y_train_pred_lr = lr.predict(X_train)\n",
    "y_test_pred_lr =  lr.predict(X_test)\n",
    "\n",
    "#Calculating and printing f1 score for train and test\n",
    "f1_train_lr = f1_score(y_train,y_train_pred_lr)\n",
    "f1_test_lr = f1_score(y_test,y_test_pred_lr)\n",
    "print('The f1 score for the training data:', f1_train_lr)\n",
    "print('The f1 score for the testing data:', f1_test_lr)\n",
    "\n",
    "# Calculating predicted probabilities(for positive classe) for train and test\n",
    "y_train_pred_prob_lr = lr.predict_proba(X_train)[:,1]\n",
    "y_test_pred_prob_lr = lr.predict_proba(X_test)[:,1]\n",
    "\n",
    "#Calculating AUC score for train and test\n",
    "y_train_pred_lr_auc = roc_auc_score(y_train, y_train_pred_prob_lr)\n",
    "y_test_pred_lr_auc = roc_auc_score(y_test, y_test_pred_prob_lr)\n",
    "print('The AUC for train data: %.3f'% (y_train_pred_lr_auc))\n",
    "print('The AUC for test data: %.3f'% (y_test_pred_lr_auc))"
   ]
  },
  {
   "cell_type": "code",
   "execution_count": 49,
   "id": "thermal-munich",
   "metadata": {
    "execution": {
     "iopub.execute_input": "2021-03-17T10:11:03.102907Z",
     "iopub.status.busy": "2021-03-17T10:11:03.102175Z",
     "iopub.status.idle": "2021-03-17T10:11:03.107784Z",
     "shell.execute_reply": "2021-03-17T10:11:03.108214Z"
    },
    "papermill": {
     "duration": 0.08109,
     "end_time": "2021-03-17T10:11:03.108391",
     "exception": false,
     "start_time": "2021-03-17T10:11:03.027301",
     "status": "completed"
    },
    "tags": []
   },
   "outputs": [],
   "source": [
    "#Calculating the ROC Curve\n",
    "train_fpr_lr, train_tpr_lr, train_threshold_lr = roc_curve(y_train,y_train_pred_prob_lr)\n",
    "test_fpr_lr, test_tpr_lr, test_threshold_lr = roc_curve(y_test,y_test_pred_prob_lr)"
   ]
  },
  {
   "cell_type": "code",
   "execution_count": 50,
   "id": "configured-purchase",
   "metadata": {
    "execution": {
     "iopub.execute_input": "2021-03-17T10:11:03.253306Z",
     "iopub.status.busy": "2021-03-17T10:11:03.252698Z",
     "iopub.status.idle": "2021-03-17T10:11:03.255686Z",
     "shell.execute_reply": "2021-03-17T10:11:03.255054Z"
    },
    "papermill": {
     "duration": 0.076843,
     "end_time": "2021-03-17T10:11:03.255826",
     "exception": false,
     "start_time": "2021-03-17T10:11:03.178983",
     "status": "completed"
    },
    "tags": []
   },
   "outputs": [],
   "source": [
    "#train_threshold_lr, test_threshold_lr"
   ]
  },
  {
   "cell_type": "code",
   "execution_count": 51,
   "id": "married-pharmacology",
   "metadata": {
    "execution": {
     "iopub.execute_input": "2021-03-17T10:11:03.418038Z",
     "iopub.status.busy": "2021-03-17T10:11:03.415659Z",
     "iopub.status.idle": "2021-03-17T10:11:03.561541Z",
     "shell.execute_reply": "2021-03-17T10:11:03.561024Z"
    },
    "papermill": {
     "duration": 0.236455,
     "end_time": "2021-03-17T10:11:03.561686",
     "exception": false,
     "start_time": "2021-03-17T10:11:03.325231",
     "status": "completed"
    },
    "tags": []
   },
   "outputs": [
    {
     "data": {
      "image/png": "[encoded data removed]",
      "text/plain": [
       "<Figure size 432x288 with 1 Axes>"
      ]
     },
     "metadata": {
      "needs_background": "light"
     },
     "output_type": "display_data"
    }
   ],
   "source": [
    "#Plotting the ROC Curve\n",
    "plt.plot(train_fpr_lr,train_tpr_lr, label='Train AUC:%.3f'% (y_train_pred_lr_auc))\n",
    "plt.plot(test_fpr_lr,test_tpr_lr, label='Test AUC:%.3f'% (y_test_pred_lr_auc))\n",
    "\n",
    "plt.title(\"ROC Curve for Logistive Regression\")\n",
    "plt.xlabel('False Positive Rate(FPR)')\n",
    "plt.ylabel('True Positive Rate(TPR)')\n",
    "\n",
    "plt.legend()\n",
    "plt.show()\n"
   ]
  },
  {
   "cell_type": "code",
   "execution_count": 52,
   "id": "imperial-queen",
   "metadata": {
    "execution": {
     "iopub.execute_input": "2021-03-17T10:11:03.710665Z",
     "iopub.status.busy": "2021-03-17T10:11:03.707933Z",
     "iopub.status.idle": "2021-03-17T10:11:03.723962Z",
     "shell.execute_reply": "2021-03-17T10:11:03.723241Z"
    },
    "papermill": {
     "duration": 0.092033,
     "end_time": "2021-03-17T10:11:03.724099",
     "exception": false,
     "start_time": "2021-03-17T10:11:03.632066",
     "status": "completed"
    },
    "tags": []
   },
   "outputs": [
    {
     "name": "stdout",
     "output_type": "stream",
     "text": [
      "Classification Report of Train:\n",
      "               precision    recall  f1-score   support\n",
      "\n",
      "           0       0.83      0.93      0.88       415\n",
      "           1       0.70      0.44      0.54       145\n",
      "\n",
      "    accuracy                           0.81       560\n",
      "   macro avg       0.76      0.69      0.71       560\n",
      "weighted avg       0.79      0.81      0.79       560\n",
      "\n",
      "Classification Report of Test:\n",
      "               precision    recall  f1-score   support\n",
      "\n",
      "           0       0.86      0.96      0.91       102\n",
      "           1       0.85      0.58      0.69        38\n",
      "\n",
      "    accuracy                           0.86       140\n",
      "   macro avg       0.85      0.77      0.80       140\n",
      "weighted avg       0.86      0.86      0.85       140\n",
      "\n"
     ]
    }
   ],
   "source": [
    "#Classification Reports for Train and Test\n",
    "from sklearn.metrics import classification_report\n",
    "print('Classification Report of Train:\\n',classification_report(y_train,y_train_pred_lr))\n",
    "print('Classification Report of Test:\\n',classification_report(y_test,y_test_pred_lr))"
   ]
  },
  {
   "cell_type": "code",
   "execution_count": 53,
   "id": "express-squad",
   "metadata": {
    "execution": {
     "iopub.execute_input": "2021-03-17T10:11:03.872394Z",
     "iopub.status.busy": "2021-03-17T10:11:03.871749Z",
     "iopub.status.idle": "2021-03-17T10:11:03.881370Z",
     "shell.execute_reply": "2021-03-17T10:11:03.880912Z"
    },
    "papermill": {
     "duration": 0.086898,
     "end_time": "2021-03-17T10:11:03.881537",
     "exception": false,
     "start_time": "2021-03-17T10:11:03.794639",
     "status": "completed"
    },
    "tags": []
   },
   "outputs": [
    {
     "name": "stdout",
     "output_type": "stream",
     "text": [
      "Confusion Matrix for Train\n",
      "     0   1\n",
      "0  387  28\n",
      "1   81  64\n",
      "Confusion Matrix for Test\n",
      "    0   1\n",
      "0  98   4\n",
      "1  16  22\n"
     ]
    }
   ],
   "source": [
    "#Confusion Matrices for Train and Test\n",
    "cm_train_lr = confusion_matrix(y_train,y_train_pred_lr)\n",
    "cm_train_df_lr = pd.DataFrame(cm_train_lr)\n",
    "\n",
    "cm_test_lr = confusion_matrix(y_test,y_test_pred_lr)\n",
    "cm_test_df_lr = pd.DataFrame(cm_test_lr)\n",
    "\n",
    "print('Confusion Matrix for Train')\n",
    "print(cm_train_df_lr)\n",
    "print('Confusion Matrix for Test')\n",
    "print(cm_test_df_lr)"
   ]
  },
  {
   "cell_type": "code",
   "execution_count": 54,
   "id": "black-domain",
   "metadata": {
    "execution": {
     "iopub.execute_input": "2021-03-17T10:11:04.050714Z",
     "iopub.status.busy": "2021-03-17T10:11:04.050096Z",
     "iopub.status.idle": "2021-03-17T10:11:04.209562Z",
     "shell.execute_reply": "2021-03-17T10:11:04.208945Z"
    },
    "papermill": {
     "duration": 0.255461,
     "end_time": "2021-03-17T10:11:04.209724",
     "exception": false,
     "start_time": "2021-03-17T10:11:03.954263",
     "status": "completed"
    },
    "tags": []
   },
   "outputs": [
    {
     "data": {
      "text/plain": [
       "Text(0.5, 1.0, 'Confustion Matrix of train')"
      ]
     },
     "execution_count": 54,
     "metadata": {},
     "output_type": "execute_result"
    },
    {
     "data": {
      "image/png": "[encoded data removed]",
      "text/plain": [
       "<Figure size 432x288 with 2 Axes>"
      ]
     },
     "metadata": {
      "needs_background": "light"
     },
     "output_type": "display_data"
    }
   ],
   "source": [
    "#Plotting Heatmap for Train Confusion Matrix\n",
    "sns.heatmap(cm_train_df_lr, fmt='g', annot = True, cmap ='Blues')\n",
    "plt.xlabel('Predicted')\n",
    "plt.ylabel('Actual')\n",
    "plt.title('Confustion Matrix of train')"
   ]
  },
  {
   "cell_type": "code",
   "execution_count": 55,
   "id": "coastal-foster",
   "metadata": {
    "execution": {
     "iopub.execute_input": "2021-03-17T10:11:04.382315Z",
     "iopub.status.busy": "2021-03-17T10:11:04.378832Z",
     "iopub.status.idle": "2021-03-17T10:11:04.517777Z",
     "shell.execute_reply": "2021-03-17T10:11:04.517270Z"
    },
    "papermill": {
     "duration": 0.235614,
     "end_time": "2021-03-17T10:11:04.517921",
     "exception": false,
     "start_time": "2021-03-17T10:11:04.282307",
     "status": "completed"
    },
    "tags": []
   },
   "outputs": [
    {
     "data": {
      "text/plain": [
       "Text(0.5, 1.0, 'Confustion Matrix of test')"
      ]
     },
     "execution_count": 55,
     "metadata": {},
     "output_type": "execute_result"
    },
    {
     "data": {
      "image/png": "[encoded data removed]",
      "text/plain": [
       "<Figure size 432x288 with 2 Axes>"
      ]
     },
     "metadata": {
      "needs_background": "light"
     },
     "output_type": "display_data"
    }
   ],
   "source": [
    "#Plotting Heatmap for Test Confusion Matrix\n",
    "sns.heatmap(cm_test_df_lr, fmt='g', annot = True, cmap ='Blues')\n",
    "plt.xlabel('Predicted')\n",
    "plt.ylabel('Actual')\n",
    "plt.title('Confustion Matrix of test')"
   ]
  },
  {
   "cell_type": "markdown",
   "id": "distributed-expression",
   "metadata": {
    "papermill": {
     "duration": 0.072633,
     "end_time": "2021-03-17T10:11:04.664072",
     "exception": false,
     "start_time": "2021-03-17T10:11:04.591439",
     "status": "completed"
    },
    "tags": []
   },
   "source": [
    "## Random Forest with GridSearchCV Hyperparameter Tuning"
   ]
  },
  {
   "cell_type": "code",
   "execution_count": 56,
   "id": "spectacular-campaign",
   "metadata": {
    "execution": {
     "iopub.execute_input": "2021-03-17T10:11:04.816212Z",
     "iopub.status.busy": "2021-03-17T10:11:04.815615Z",
     "iopub.status.idle": "2021-03-17T10:11:04.936199Z",
     "shell.execute_reply": "2021-03-17T10:11:04.935562Z"
    },
    "papermill": {
     "duration": 0.198356,
     "end_time": "2021-03-17T10:11:04.936344",
     "exception": false,
     "start_time": "2021-03-17T10:11:04.737988",
     "status": "completed"
    },
    "tags": []
   },
   "outputs": [],
   "source": [
    "from sklearn.ensemble import RandomForestClassifier\n",
    "\n",
    "rf_clf = RandomForestClassifier()"
   ]
  },
  {
   "cell_type": "code",
   "execution_count": 57,
   "id": "charged-proposal",
   "metadata": {
    "execution": {
     "iopub.execute_input": "2021-03-17T10:11:05.090376Z",
     "iopub.status.busy": "2021-03-17T10:11:05.089771Z",
     "iopub.status.idle": "2021-03-17T10:11:05.092786Z",
     "shell.execute_reply": "2021-03-17T10:11:05.093215Z"
    },
    "papermill": {
     "duration": 0.08178,
     "end_time": "2021-03-17T10:11:05.093382",
     "exception": false,
     "start_time": "2021-03-17T10:11:05.011602",
     "status": "completed"
    },
    "tags": []
   },
   "outputs": [
    {
     "name": "stdout",
     "output_type": "stream",
     "text": [
      "{'n_estimators': [110, 120, 130], 'max_depth': [15, 20, 25], 'min_samples_split': [90, 100, 110], 'min_samples_leaf': [5, 10, 15]}\n"
     ]
    }
   ],
   "source": [
    "parameter_grid = {'n_estimators':[110,120,130],'max_depth':[15,20,25],'min_samples_split':[90,100,110],'min_samples_leaf':[5,10,15]}\n",
    "print(parameter_grid)"
   ]
  },
  {
   "cell_type": "code",
   "execution_count": 58,
   "id": "younger-hybrid",
   "metadata": {
    "execution": {
     "iopub.execute_input": "2021-03-17T10:11:05.246339Z",
     "iopub.status.busy": "2021-03-17T10:11:05.245741Z",
     "iopub.status.idle": "2021-03-17T10:11:05.249912Z",
     "shell.execute_reply": "2021-03-17T10:11:05.250347Z"
    },
    "papermill": {
     "duration": 0.082258,
     "end_time": "2021-03-17T10:11:05.250542",
     "exception": false,
     "start_time": "2021-03-17T10:11:05.168284",
     "status": "completed"
    },
    "tags": []
   },
   "outputs": [],
   "source": [
    "from sklearn.model_selection import GridSearchCV\n",
    "rf_grid = GridSearchCV(estimator = rf_clf, param_grid = parameter_grid,scoring='roc_auc', cv = 3, verbose = 3, n_jobs = -1)"
   ]
  },
  {
   "cell_type": "code",
   "execution_count": 59,
   "id": "bearing-system",
   "metadata": {
    "execution": {
     "iopub.execute_input": "2021-03-17T10:11:05.400872Z",
     "iopub.status.busy": "2021-03-17T10:11:05.400138Z",
     "iopub.status.idle": "2021-03-17T10:11:27.817015Z",
     "shell.execute_reply": "2021-03-17T10:11:27.817533Z"
    },
    "papermill": {
     "duration": 22.493462,
     "end_time": "2021-03-17T10:11:27.817710",
     "exception": false,
     "start_time": "2021-03-17T10:11:05.324248",
     "status": "completed"
    },
    "tags": []
   },
   "outputs": [
    {
     "name": "stdout",
     "output_type": "stream",
     "text": [
      "Fitting 3 folds for each of 81 candidates, totalling 243 fits\n"
     ]
    },
    {
     "data": {
      "text/plain": [
       "GridSearchCV(cv=3, estimator=RandomForestClassifier(), n_jobs=-1,\n",
       "             param_grid={'max_depth': [15, 20, 25],\n",
       "                         'min_samples_leaf': [5, 10, 15],\n",
       "                         'min_samples_split': [90, 100, 110],\n",
       "                         'n_estimators': [110, 120, 130]},\n",
       "             scoring='roc_auc', verbose=3)"
      ]
     },
     "execution_count": 59,
     "metadata": {},
     "output_type": "execute_result"
    }
   ],
   "source": [
    "#Fitting the model\n",
    "rf_grid.fit(X_train,y_train)"
   ]
  },
  {
   "cell_type": "code",
   "execution_count": 60,
   "id": "unsigned-niagara",
   "metadata": {
    "execution": {
     "iopub.execute_input": "2021-03-17T10:11:27.970888Z",
     "iopub.status.busy": "2021-03-17T10:11:27.970156Z",
     "iopub.status.idle": "2021-03-17T10:11:27.974918Z",
     "shell.execute_reply": "2021-03-17T10:11:27.975507Z"
    },
    "papermill": {
     "duration": 0.083412,
     "end_time": "2021-03-17T10:11:27.975696",
     "exception": false,
     "start_time": "2021-03-17T10:11:27.892284",
     "status": "completed"
    },
    "tags": []
   },
   "outputs": [
    {
     "data": {
      "text/plain": [
       "{'max_depth': 25,\n",
       " 'min_samples_leaf': 5,\n",
       " 'min_samples_split': 90,\n",
       " 'n_estimators': 110}"
      ]
     },
     "execution_count": 60,
     "metadata": {},
     "output_type": "execute_result"
    }
   ],
   "source": [
    "#Let us check which are the best parameters predicted by our model\n",
    "rf_grid.best_params_"
   ]
  },
  {
   "cell_type": "code",
   "execution_count": 61,
   "id": "indonesian-manual",
   "metadata": {
    "execution": {
     "iopub.execute_input": "2021-03-17T10:11:28.130647Z",
     "iopub.status.busy": "2021-03-17T10:11:28.129630Z",
     "iopub.status.idle": "2021-03-17T10:11:28.210158Z",
     "shell.execute_reply": "2021-03-17T10:11:28.209648Z"
    },
    "papermill": {
     "duration": 0.15823,
     "end_time": "2021-03-17T10:11:28.210300",
     "exception": false,
     "start_time": "2021-03-17T10:11:28.052070",
     "status": "completed"
    },
    "tags": []
   },
   "outputs": [
    {
     "name": "stdout",
     "output_type": "stream",
     "text": [
      "The f1 score for the testing data: 0.37158469945355194\n",
      "The f1 score for the testing data: 0.26666666666666666\n",
      "The AUC for train data: 0.869\n",
      "The AUC for test data: 0.818\n"
     ]
    }
   ],
   "source": [
    "#Predicting on training and test data\n",
    "y_train_pred_rf_gsv = rf_grid.predict(X_train)\n",
    "y_test_pred_rf_gsv =  rf_grid.predict(X_test)\n",
    "\n",
    "#Calculating and printing f1 score for train and test\n",
    "f1_train_rf_gsv = f1_score(y_train,y_train_pred_rf_gsv)\n",
    "f1_test_rf_gsv = f1_score(y_test,y_test_pred_rf_gsv)\n",
    "print('The f1 score for the testing data:', f1_train_rf_gsv)\n",
    "print('The f1 score for the testing data:', f1_test_rf_gsv)\n",
    "\n",
    "\n",
    "# Calculating predicted probabilities(for positive classe) for train and test\n",
    "y_train_pred_prob_rf_gsv = rf_grid.predict_proba(X_train)[:,1]\n",
    "y_test_pred_prob_rf_gsv = rf_grid.predict_proba(X_test)[:,1]\n",
    "\n",
    "#Calculating AUC score for train and test\n",
    "y_train_pred_rf_gsv_auc = roc_auc_score(y_train, y_train_pred_prob_rf_gsv)\n",
    "y_test_pred_rf_gsv_auc = roc_auc_score(y_test, y_test_pred_prob_rf_gsv)\n",
    "print('The AUC for train data: %.3f'% (y_train_pred_rf_gsv_auc))\n",
    "print('The AUC for test data: %.3f'% (y_test_pred_rf_gsv_auc))"
   ]
  },
  {
   "cell_type": "code",
   "execution_count": 62,
   "id": "capital-repeat",
   "metadata": {
    "execution": {
     "iopub.execute_input": "2021-03-17T10:11:28.366435Z",
     "iopub.status.busy": "2021-03-17T10:11:28.365831Z",
     "iopub.status.idle": "2021-03-17T10:11:28.372918Z",
     "shell.execute_reply": "2021-03-17T10:11:28.372402Z"
    },
    "papermill": {
     "duration": 0.087253,
     "end_time": "2021-03-17T10:11:28.373071",
     "exception": false,
     "start_time": "2021-03-17T10:11:28.285818",
     "status": "completed"
    },
    "tags": []
   },
   "outputs": [],
   "source": [
    "#Calculating the ROC Curve\n",
    "train_fpr_rf_gsv, train_tpr_rf_gsv, train_threshold_rf_gsv = roc_curve(y_train,y_train_pred_prob_rf_gsv)\n",
    "test_fpr_rf_gsv, test_tpr_rf_gsv, test_threshold_rf_gsv = roc_curve(y_test,y_test_pred_prob_rf_gsv)"
   ]
  },
  {
   "cell_type": "code",
   "execution_count": 63,
   "id": "infectious-russia",
   "metadata": {
    "execution": {
     "iopub.execute_input": "2021-03-17T10:11:28.571167Z",
     "iopub.status.busy": "2021-03-17T10:11:28.570566Z",
     "iopub.status.idle": "2021-03-17T10:11:28.694250Z",
     "shell.execute_reply": "2021-03-17T10:11:28.694724Z"
    },
    "papermill": {
     "duration": 0.246877,
     "end_time": "2021-03-17T10:11:28.694900",
     "exception": false,
     "start_time": "2021-03-17T10:11:28.448023",
     "status": "completed"
    },
    "tags": []
   },
   "outputs": [
    {
     "data": {
      "image/png": "[encoded data removed]",
      "text/plain": [
       "<Figure size 432x288 with 1 Axes>"
      ]
     },
     "metadata": {
      "needs_background": "light"
     },
     "output_type": "display_data"
    }
   ],
   "source": [
    "#Plotting the ROC Curve\n",
    "plt.plot(train_fpr_rf_gsv,train_tpr_rf_gsv, label='Train AUC:%.3f'% (y_train_pred_rf_gsv_auc))\n",
    "plt.plot(test_fpr_rf_gsv,test_tpr_rf_gsv, label='Test AUC:%.3f'% (y_test_pred_rf_gsv_auc))\n",
    "\n",
    "plt.title(\"ROC Curve for RandomForest\")\n",
    "plt.xlabel('False Positive Rate(FPR)')\n",
    "plt.ylabel('True Positive Rate(TPR)')\n",
    "\n",
    "plt.legend()\n",
    "plt.show()"
   ]
  },
  {
   "cell_type": "code",
   "execution_count": 64,
   "id": "robust-phoenix",
   "metadata": {
    "execution": {
     "iopub.execute_input": "2021-03-17T10:11:28.854804Z",
     "iopub.status.busy": "2021-03-17T10:11:28.853946Z",
     "iopub.status.idle": "2021-03-17T10:11:28.870729Z",
     "shell.execute_reply": "2021-03-17T10:11:28.871217Z"
    },
    "papermill": {
     "duration": 0.097228,
     "end_time": "2021-03-17T10:11:28.871397",
     "exception": false,
     "start_time": "2021-03-17T10:11:28.774169",
     "status": "completed"
    },
    "tags": []
   },
   "outputs": [
    {
     "name": "stdout",
     "output_type": "stream",
     "text": [
      "Classification Report of Train:\n",
      "               precision    recall  f1-score   support\n",
      "\n",
      "           0       0.79      0.99      0.88       415\n",
      "           1       0.89      0.23      0.37       145\n",
      "\n",
      "    accuracy                           0.79       560\n",
      "   macro avg       0.84      0.61      0.62       560\n",
      "weighted avg       0.82      0.79      0.75       560\n",
      "\n",
      "Classification Report of Test:\n",
      "               precision    recall  f1-score   support\n",
      "\n",
      "           0       0.76      0.99      0.86       102\n",
      "           1       0.86      0.16      0.27        38\n",
      "\n",
      "    accuracy                           0.76       140\n",
      "   macro avg       0.81      0.57      0.56       140\n",
      "weighted avg       0.79      0.76      0.70       140\n",
      "\n"
     ]
    }
   ],
   "source": [
    "#Classification Reports for Train and Test\n",
    "from sklearn.metrics import classification_report\n",
    "print('Classification Report of Train:\\n',classification_report(y_train,y_train_pred_rf_gsv))\n",
    "print('Classification Report of Test:\\n',classification_report(y_test,y_test_pred_rf_gsv))"
   ]
  },
  {
   "cell_type": "code",
   "execution_count": 65,
   "id": "focal-bulgaria",
   "metadata": {
    "execution": {
     "iopub.execute_input": "2021-03-17T10:11:29.032226Z",
     "iopub.status.busy": "2021-03-17T10:11:29.031540Z",
     "iopub.status.idle": "2021-03-17T10:11:29.043167Z",
     "shell.execute_reply": "2021-03-17T10:11:29.042498Z"
    },
    "papermill": {
     "duration": 0.094275,
     "end_time": "2021-03-17T10:11:29.043312",
     "exception": false,
     "start_time": "2021-03-17T10:11:28.949037",
     "status": "completed"
    },
    "tags": []
   },
   "outputs": [
    {
     "name": "stdout",
     "output_type": "stream",
     "text": [
      "Confusion Matrix for Train\n",
      "     0   1\n",
      "0  411   4\n",
      "1  111  34\n",
      "Confusion Matrix for Test\n",
      "     0  1\n",
      "0  101  1\n",
      "1   32  6\n"
     ]
    }
   ],
   "source": [
    "#Confusion Matrices for Train and Test\n",
    "cm_train_rf_gsv = confusion_matrix(y_train,y_train_pred_rf_gsv)\n",
    "cm_train_df_rf_gsv = pd.DataFrame(cm_train_rf_gsv)\n",
    "\n",
    "cm_test_rf_gsv = confusion_matrix(y_test,y_test_pred_rf_gsv)\n",
    "cm_test_df_rf_gsv = pd.DataFrame(cm_test_rf_gsv)\n",
    "\n",
    "print('Confusion Matrix for Train')\n",
    "print(cm_train_df_rf_gsv)\n",
    "print('Confusion Matrix for Test')\n",
    "print(cm_test_df_rf_gsv)"
   ]
  },
  {
   "cell_type": "code",
   "execution_count": 66,
   "id": "oriental-remains",
   "metadata": {
    "execution": {
     "iopub.execute_input": "2021-03-17T10:11:29.399326Z",
     "iopub.status.busy": "2021-03-17T10:11:29.391342Z",
     "iopub.status.idle": "2021-03-17T10:11:29.559621Z",
     "shell.execute_reply": "2021-03-17T10:11:29.559018Z"
    },
    "papermill": {
     "duration": 0.438472,
     "end_time": "2021-03-17T10:11:29.559831",
     "exception": false,
     "start_time": "2021-03-17T10:11:29.121359",
     "status": "completed"
    },
    "tags": []
   },
   "outputs": [
    {
     "data": {
      "text/plain": [
       "Text(0.5, 1.0, 'Confustion Matrix of train')"
      ]
     },
     "execution_count": 66,
     "metadata": {},
     "output_type": "execute_result"
    },
    {
     "data": {
      "image/png": "[encoded data removed]",
      "text/plain": [
       "<Figure size 432x288 with 2 Axes>"
      ]
     },
     "metadata": {
      "needs_background": "light"
     },
     "output_type": "display_data"
    }
   ],
   "source": [
    "#Plotting Heatmap for Train Confusion Matrix\n",
    "sns.heatmap(cm_train_df_rf_gsv, fmt='g', annot = True, cmap ='Blues')\n",
    "plt.xlabel('Predicted')\n",
    "plt.ylabel('Actual')\n",
    "plt.title('Confustion Matrix of train')"
   ]
  },
  {
   "cell_type": "code",
   "execution_count": 67,
   "id": "pharmaceutical-nylon",
   "metadata": {
    "execution": {
     "iopub.execute_input": "2021-03-17T10:11:29.743497Z",
     "iopub.status.busy": "2021-03-17T10:11:29.742813Z",
     "iopub.status.idle": "2021-03-17T10:11:29.890615Z",
     "shell.execute_reply": "2021-03-17T10:11:29.890096Z"
    },
    "papermill": {
     "duration": 0.252791,
     "end_time": "2021-03-17T10:11:29.890757",
     "exception": false,
     "start_time": "2021-03-17T10:11:29.637966",
     "status": "completed"
    },
    "tags": []
   },
   "outputs": [
    {
     "data": {
      "text/plain": [
       "Text(0.5, 1.0, 'Confustion Matrix of test')"
      ]
     },
     "execution_count": 67,
     "metadata": {},
     "output_type": "execute_result"
    },
    {
     "data": {
      "image/png": "[encoded data removed]",
      "text/plain": [
       "<Figure size 432x288 with 2 Axes>"
      ]
     },
     "metadata": {
      "needs_background": "light"
     },
     "output_type": "display_data"
    }
   ],
   "source": [
    "#Plotting Heatmap for Train Confusion Matrix\n",
    "sns.heatmap(cm_test_df_rf_gsv, fmt='g', annot = True, cmap ='Blues')\n",
    "plt.xlabel('Predicted')\n",
    "plt.ylabel('Actual')\n",
    "plt.title('Confustion Matrix of test')"
   ]
  },
  {
   "cell_type": "markdown",
   "id": "compliant-concert",
   "metadata": {
    "papermill": {
     "duration": 0.08038,
     "end_time": "2021-03-17T10:11:30.050793",
     "exception": false,
     "start_time": "2021-03-17T10:11:29.970413",
     "status": "completed"
    },
    "tags": []
   },
   "source": [
    "## XgBoost with HyperParameter Tuning"
   ]
  },
  {
   "cell_type": "code",
   "execution_count": 68,
   "id": "macro-bowling",
   "metadata": {
    "execution": {
     "iopub.execute_input": "2021-03-17T10:11:30.226056Z",
     "iopub.status.busy": "2021-03-17T10:11:30.225362Z",
     "iopub.status.idle": "2021-03-17T10:11:30.528226Z",
     "shell.execute_reply": "2021-03-17T10:11:30.527647Z"
    },
    "papermill": {
     "duration": 0.394984,
     "end_time": "2021-03-17T10:11:30.528393",
     "exception": false,
     "start_time": "2021-03-17T10:11:30.133409",
     "status": "completed"
    },
    "tags": []
   },
   "outputs": [],
   "source": [
    "#Importing Xgboost and RandomSearchCV\n",
    "import xgboost as xgb\n",
    "from sklearn.model_selection import RandomizedSearchCV"
   ]
  },
  {
   "cell_type": "code",
   "execution_count": 69,
   "id": "dangerous-nevada",
   "metadata": {
    "execution": {
     "iopub.execute_input": "2021-03-17T10:11:30.693898Z",
     "iopub.status.busy": "2021-03-17T10:11:30.693149Z",
     "iopub.status.idle": "2021-03-17T10:11:30.696031Z",
     "shell.execute_reply": "2021-03-17T10:11:30.695564Z"
    },
    "papermill": {
     "duration": 0.086563,
     "end_time": "2021-03-17T10:11:30.696238",
     "exception": false,
     "start_time": "2021-03-17T10:11:30.609675",
     "status": "completed"
    },
    "tags": []
   },
   "outputs": [],
   "source": [
    "parameters = {\n",
    "    'learning_rate': [0.1,0.2,0.3],\n",
    "    'max_depth': [1,3,5],\n",
    "    'min_child_weight': [3,5,7],\n",
    "    'gamma': [0,0.2,0.4],\n",
    "    'colsample_bytree': [0.3,0.4,0.5]\n",
    "}"
   ]
  },
  {
   "cell_type": "code",
   "execution_count": 70,
   "id": "decimal-concentrate",
   "metadata": {
    "execution": {
     "iopub.execute_input": "2021-03-17T10:11:30.859361Z",
     "iopub.status.busy": "2021-03-17T10:11:30.858732Z",
     "iopub.status.idle": "2021-03-17T10:11:30.862140Z",
     "shell.execute_reply": "2021-03-17T10:11:30.861661Z"
    },
    "papermill": {
     "duration": 0.086271,
     "end_time": "2021-03-17T10:11:30.862285",
     "exception": false,
     "start_time": "2021-03-17T10:11:30.776014",
     "status": "completed"
    },
    "tags": []
   },
   "outputs": [],
   "source": [
    "xgb_clf = xgb.XGBClassifier()"
   ]
  },
  {
   "cell_type": "code",
   "execution_count": 71,
   "id": "ultimate-hanging",
   "metadata": {
    "execution": {
     "iopub.execute_input": "2021-03-17T10:11:31.027881Z",
     "iopub.status.busy": "2021-03-17T10:11:31.026851Z",
     "iopub.status.idle": "2021-03-17T10:11:31.030644Z",
     "shell.execute_reply": "2021-03-17T10:11:31.030023Z"
    },
    "papermill": {
     "duration": 0.088815,
     "end_time": "2021-03-17T10:11:31.030782",
     "exception": false,
     "start_time": "2021-03-17T10:11:30.941967",
     "status": "completed"
    },
    "tags": []
   },
   "outputs": [],
   "source": [
    "xgb_rsv = RandomizedSearchCV(xgb_clf, param_distributions=parameters, n_jobs=-1,cv=3,verbose=3,scoring='roc_auc',random_state=42)"
   ]
  },
  {
   "cell_type": "code",
   "execution_count": 72,
   "id": "patient-enzyme",
   "metadata": {
    "execution": {
     "iopub.execute_input": "2021-03-17T10:11:31.195605Z",
     "iopub.status.busy": "2021-03-17T10:11:31.194652Z",
     "iopub.status.idle": "2021-03-17T10:15:44.595384Z",
     "shell.execute_reply": "2021-03-17T10:15:44.594898Z"
    },
    "papermill": {
     "duration": 253.485038,
     "end_time": "2021-03-17T10:15:44.595593",
     "exception": false,
     "start_time": "2021-03-17T10:11:31.110555",
     "status": "completed"
    },
    "tags": []
   },
   "outputs": [
    {
     "name": "stdout",
     "output_type": "stream",
     "text": [
      "Fitting 3 folds for each of 10 candidates, totalling 30 fits\n",
      "[18:21:22] WARNING: C:/Users/Administrator/workspace/xgboost-win64_release_1.3.0/src/learner.cc:1061: Starting in XGBoost 1.3.0, the default evaluation metric used with the objective 'binary:logistic' was changed from 'error' to 'logloss'. Explicitly set eval_metric if you'd like to restore the old behavior.\n"
     ]
    },
    {
     "data": {
      "text/plain": [
       "RandomizedSearchCV(cv=3,\n",
       "                   estimator=XGBClassifier(base_score=None, booster=None,\n",
       "                                           colsample_bylevel=None,\n",
       "                                           colsample_bynode=None,\n",
       "                                           colsample_bytree=None, gamma=None,\n",
       "                                           gpu_id=None, importance_type='gain',\n",
       "                                           interaction_constraints=None,\n",
       "                                           learning_rate=None,\n",
       "                                           max_delta_step=None, max_depth=None,\n",
       "                                           min_child_weight=None, missing=nan,\n",
       "                                           monotone_constraints=None,\n",
       "                                           n_estimators=100,...\n",
       "                                           random_state=None, reg_alpha=None,\n",
       "                                           reg_lambda=None,\n",
       "                                           scale_pos_weight=None,\n",
       "                                           subsample=None, tree_method=None,\n",
       "                                           validate_parameters=None,\n",
       "                                           verbosity=None),\n",
       "                   n_jobs=-1,\n",
       "                   param_distributions={'colsample_bytree': [0.3, 0.4, 0.5],\n",
       "                                        'gamma': [0, 0.2, 0.4],\n",
       "                                        'learning_rate': [0.1, 0.2, 0.3],\n",
       "                                        'max_depth': [1, 3, 5],\n",
       "                                        'min_child_weight': [3, 5, 7]},\n",
       "                   random_state=42, scoring='roc_auc', verbose=3)"
      ]
     },
     "execution_count": 72,
     "metadata": {},
     "output_type": "execute_result"
    }
   ],
   "source": [
    "#Fitting the model\n",
    "xgb_rsv.fit(X_train,y_train)\n"
   ]
  },
  {
   "cell_type": "code",
   "execution_count": 73,
   "id": "veterinary-space",
   "metadata": {
    "execution": {
     "iopub.execute_input": "2021-03-17T10:15:44.760929Z",
     "iopub.status.busy": "2021-03-17T10:15:44.760273Z",
     "iopub.status.idle": "2021-03-17T10:15:44.765222Z",
     "shell.execute_reply": "2021-03-17T10:15:44.765693Z"
    },
    "papermill": {
     "duration": 0.088113,
     "end_time": "2021-03-17T10:15:44.765855",
     "exception": false,
     "start_time": "2021-03-17T10:15:44.677742",
     "status": "completed"
    },
    "tags": []
   },
   "outputs": [
    {
     "data": {
      "text/plain": [
       "{'min_child_weight': 3,\n",
       " 'max_depth': 1,\n",
       " 'learning_rate': 0.2,\n",
       " 'gamma': 0,\n",
       " 'colsample_bytree': 0.3}"
      ]
     },
     "execution_count": 73,
     "metadata": {},
     "output_type": "execute_result"
    }
   ],
   "source": [
    "xgb_rsv.best_params_"
   ]
  },
  {
   "cell_type": "code",
   "execution_count": 74,
   "id": "institutional-examination",
   "metadata": {
    "execution": {
     "iopub.execute_input": "2021-03-17T10:15:44.931982Z",
     "iopub.status.busy": "2021-03-17T10:15:44.931350Z",
     "iopub.status.idle": "2021-03-17T10:15:44.938118Z",
     "shell.execute_reply": "2021-03-17T10:15:44.938624Z"
    },
    "papermill": {
     "duration": 0.090759,
     "end_time": "2021-03-17T10:15:44.938834",
     "exception": false,
     "start_time": "2021-03-17T10:15:44.848075",
     "status": "completed"
    },
    "tags": []
   },
   "outputs": [],
   "source": [
    "#Predicting on training and test data\n",
    "y_train_pred_xgb = xgb_rsv.predict(X_train)\n",
    "y_test_pred_xgb =  xgb_rsv.predict(X_test)"
   ]
  },
  {
   "cell_type": "code",
   "execution_count": 75,
   "id": "macro-adapter",
   "metadata": {
    "execution": {
     "iopub.execute_input": "2021-03-17T10:15:45.109851Z",
     "iopub.status.busy": "2021-03-17T10:15:45.109190Z",
     "iopub.status.idle": "2021-03-17T10:15:45.128522Z",
     "shell.execute_reply": "2021-03-17T10:15:45.129114Z"
    },
    "papermill": {
     "duration": 0.107919,
     "end_time": "2021-03-17T10:15:45.129291",
     "exception": false,
     "start_time": "2021-03-17T10:15:45.021372",
     "status": "completed"
    },
    "tags": []
   },
   "outputs": [
    {
     "name": "stdout",
     "output_type": "stream",
     "text": [
      "The f1 score for the training data: 0.5974025974025975\n",
      "The f1 score for the testing data: 0.5937499999999999\n",
      "The AUC for train data: 0.886\n",
      "The AUC for test data: 0.856\n"
     ]
    }
   ],
   "source": [
    "#Calculating and printing f1 score for train and test\n",
    "f1_train_xgb = f1_score(y_train,y_train_pred_xgb)\n",
    "f1_test_xgb = f1_score(y_test,y_test_pred_xgb)\n",
    "print('The f1 score for the training data:', f1_train_xgb)\n",
    "print('The f1 score for the testing data:', f1_test_xgb)\n",
    "\n",
    "\n",
    "# Calculating predicted probabilities(for positive classe) for train and test\n",
    "y_train_pred_prob_xgb = xgb_rsv.predict_proba(X_train)[:,1]\n",
    "y_test_pred_prob_xgb = xgb_rsv.predict_proba(X_test)[:,1]\n",
    "\n",
    "#Calculating AUC score for train and test\n",
    "y_train_pred_xgb_auc = roc_auc_score(y_train, y_train_pred_prob_xgb)\n",
    "y_test_pred_xgb_auc = roc_auc_score(y_test, y_test_pred_prob_xgb)\n",
    "print('The AUC for train data: %.3f'% (y_train_pred_xgb_auc))\n",
    "print('The AUC for test data: %.3f'% (y_test_pred_xgb_auc))"
   ]
  },
  {
   "cell_type": "code",
   "execution_count": 76,
   "id": "legitimate-postcard",
   "metadata": {
    "execution": {
     "iopub.execute_input": "2021-03-17T10:15:45.296284Z",
     "iopub.status.busy": "2021-03-17T10:15:45.295689Z",
     "iopub.status.idle": "2021-03-17T10:15:45.300741Z",
     "shell.execute_reply": "2021-03-17T10:15:45.300241Z"
    },
    "papermill": {
     "duration": 0.090847,
     "end_time": "2021-03-17T10:15:45.300886",
     "exception": false,
     "start_time": "2021-03-17T10:15:45.210039",
     "status": "completed"
    },
    "tags": []
   },
   "outputs": [],
   "source": [
    "#Calculating the ROC Curve\n",
    "train_fpr_xgb, train_tpr_xgb, train_threshold_xgb = roc_curve(y_train,y_train_pred_prob_xgb)\n",
    "test_fpr_xgb, test_tpr_xgb, test_threshold_xgb = roc_curve(y_test,y_test_pred_prob_xgb)"
   ]
  },
  {
   "cell_type": "code",
   "execution_count": 77,
   "id": "liked-microphone",
   "metadata": {
    "execution": {
     "iopub.execute_input": "2021-03-17T10:15:45.521581Z",
     "iopub.status.busy": "2021-03-17T10:15:45.520909Z",
     "iopub.status.idle": "2021-03-17T10:15:45.680297Z",
     "shell.execute_reply": "2021-03-17T10:15:45.679788Z"
    },
    "papermill": {
     "duration": 0.245841,
     "end_time": "2021-03-17T10:15:45.680442",
     "exception": false,
     "start_time": "2021-03-17T10:15:45.434601",
     "status": "completed"
    },
    "tags": []
   },
   "outputs": [
    {
     "data": {
      "image/png": "[encoded data removed]",
      "text/plain": [
       "<Figure size 432x288 with 1 Axes>"
      ]
     },
     "metadata": {
      "needs_background": "light"
     },
     "output_type": "display_data"
    }
   ],
   "source": [
    "#Plotting the ROC Curve\n",
    "plt.plot(train_fpr_xgb,train_tpr_xgb, label='Train AUC:%.3f'% (y_train_pred_xgb_auc))\n",
    "plt.plot(test_fpr_xgb,test_tpr_xgb, label='Test AUC:%.3f'% (y_test_pred_xgb_auc))\n",
    "\n",
    "plt.title(\"ROC Curve for XGBoost\")\n",
    "plt.xlabel('False Positive Rate(FPR)')\n",
    "plt.ylabel('True Positive Rate(TPR)')\n",
    "\n",
    "plt.legend()\n",
    "plt.show()"
   ]
  },
  {
   "cell_type": "code",
   "execution_count": 78,
   "id": "bottom-register",
   "metadata": {
    "execution": {
     "iopub.execute_input": "2021-03-17T10:15:45.851438Z",
     "iopub.status.busy": "2021-03-17T10:15:45.850795Z",
     "iopub.status.idle": "2021-03-17T10:15:45.865155Z",
     "shell.execute_reply": "2021-03-17T10:15:45.865649Z"
    },
    "papermill": {
     "duration": 0.103093,
     "end_time": "2021-03-17T10:15:45.865818",
     "exception": false,
     "start_time": "2021-03-17T10:15:45.762725",
     "status": "completed"
    },
    "tags": []
   },
   "outputs": [
    {
     "name": "stdout",
     "output_type": "stream",
     "text": [
      "Classification Report of Train:\n",
      "               precision    recall  f1-score   support\n",
      "\n",
      "           0       0.84      0.96      0.90       415\n",
      "           1       0.80      0.48      0.60       145\n",
      "\n",
      "    accuracy                           0.83       560\n",
      "   macro avg       0.82      0.72      0.75       560\n",
      "weighted avg       0.83      0.83      0.82       560\n",
      "\n",
      "Classification Report of Test:\n",
      "               precision    recall  f1-score   support\n",
      "\n",
      "           0       0.83      0.93      0.88       102\n",
      "           1       0.73      0.50      0.59        38\n",
      "\n",
      "    accuracy                           0.81       140\n",
      "   macro avg       0.78      0.72      0.74       140\n",
      "weighted avg       0.81      0.81      0.80       140\n",
      "\n"
     ]
    }
   ],
   "source": [
    "#Classification Reports for Train and Test\n",
    "\n",
    "print('Classification Report of Train:\\n',classification_report(y_train,y_train_pred_xgb))\n",
    "print('Classification Report of Test:\\n',classification_report(y_test,y_test_pred_xgb))"
   ]
  },
  {
   "cell_type": "code",
   "execution_count": 79,
   "id": "aggressive-merchant",
   "metadata": {
    "execution": {
     "iopub.execute_input": "2021-03-17T10:15:46.039763Z",
     "iopub.status.busy": "2021-03-17T10:15:46.039027Z",
     "iopub.status.idle": "2021-03-17T10:15:46.052974Z",
     "shell.execute_reply": "2021-03-17T10:15:46.052410Z"
    },
    "papermill": {
     "duration": 0.10504,
     "end_time": "2021-03-17T10:15:46.053114",
     "exception": false,
     "start_time": "2021-03-17T10:15:45.948074",
     "status": "completed"
    },
    "tags": []
   },
   "outputs": [
    {
     "name": "stdout",
     "output_type": "stream",
     "text": [
      "Train Precision:0.802\n",
      "Train Recall:0.476\n",
      "Test Precision:0.731\n",
      "Test Recall:0.500\n"
     ]
    }
   ],
   "source": [
    "from sklearn import metrics\n",
    "train_recall_xgb = metrics.recall_score(y_train, y_train_pred_xgb)\n",
    "train_precision_xgb = metrics.precision_score(y_train, y_train_pred_xgb)\n",
    "print('Train Precision:%.3f'% train_precision_xgb)\n",
    "print('Train Recall:%.3f'% train_recall_xgb)\n",
    "\n",
    "test_recall_xgb = metrics.recall_score(y_test, y_test_pred_xgb)\n",
    "train_precision_xgb = metrics.precision_score(y_test, y_test_pred_xgb)\n",
    "print('Test Precision:%.3f'% train_precision_xgb)\n",
    "print('Test Recall:%.3f'% test_recall_xgb)"
   ]
  },
  {
   "cell_type": "code",
   "execution_count": 80,
   "id": "indian-facial",
   "metadata": {
    "execution": {
     "iopub.execute_input": "2021-03-17T10:15:46.227029Z",
     "iopub.status.busy": "2021-03-17T10:15:46.225494Z",
     "iopub.status.idle": "2021-03-17T10:15:46.234231Z",
     "shell.execute_reply": "2021-03-17T10:15:46.234686Z"
    },
    "papermill": {
     "duration": 0.098287,
     "end_time": "2021-03-17T10:15:46.234863",
     "exception": false,
     "start_time": "2021-03-17T10:15:46.136576",
     "status": "completed"
    },
    "tags": []
   },
   "outputs": [
    {
     "name": "stdout",
     "output_type": "stream",
     "text": [
      "[[398  17]\n",
      " [ 76  69]]\n",
      "[[95  7]\n",
      " [19 19]]\n"
     ]
    }
   ],
   "source": [
    "cm_train_mat_xgb = confusion_matrix(y_train, y_train_pred_xgb)\n",
    "print(cm_train_mat_xgb)\n",
    "cm_test_mat_xbg = confusion_matrix(y_test, y_test_pred_xgb)\n",
    "print(cm_test_mat_xbg)"
   ]
  },
  {
   "cell_type": "code",
   "execution_count": 81,
   "id": "stylish-thirty",
   "metadata": {
    "execution": {
     "iopub.execute_input": "2021-03-17T10:15:46.424530Z",
     "iopub.status.busy": "2021-03-17T10:15:46.423849Z",
     "iopub.status.idle": "2021-03-17T10:15:46.598625Z",
     "shell.execute_reply": "2021-03-17T10:15:46.599271Z"
    },
    "papermill": {
     "duration": 0.28141,
     "end_time": "2021-03-17T10:15:46.599525",
     "exception": false,
     "start_time": "2021-03-17T10:15:46.318115",
     "status": "completed"
    },
    "tags": []
   },
   "outputs": [
    {
     "data": {
      "text/plain": [
       "Text(0.5, 1.0, 'Confustion Matrix of train')"
      ]
     },
     "execution_count": 81,
     "metadata": {},
     "output_type": "execute_result"
    },
    {
     "data": {
      "image/png": "[encoded data removed]",
      "text/plain": [
       "<Figure size 432x288 with 2 Axes>"
      ]
     },
     "metadata": {
      "needs_background": "light"
     },
     "output_type": "display_data"
    }
   ],
   "source": [
    "#Plotting Heatmap for Train Confusion Matrix\n",
    "sns.heatmap(cm_train_mat_xgb, fmt='g', annot = True, cmap ='Blues')\n",
    "plt.xlabel('Predicted')\n",
    "plt.ylabel('Actual')\n",
    "plt.title('Confustion Matrix of train')"
   ]
  },
  {
   "cell_type": "code",
   "execution_count": 82,
   "id": "graduate-round",
   "metadata": {
    "execution": {
     "iopub.execute_input": "2021-03-17T10:15:46.817275Z",
     "iopub.status.busy": "2021-03-17T10:15:46.816072Z",
     "iopub.status.idle": "2021-03-17T10:15:46.982921Z",
     "shell.execute_reply": "2021-03-17T10:15:46.982335Z"
    },
    "papermill": {
     "duration": 0.275957,
     "end_time": "2021-03-17T10:15:46.983057",
     "exception": false,
     "start_time": "2021-03-17T10:15:46.707100",
     "status": "completed"
    },
    "tags": []
   },
   "outputs": [
    {
     "data": {
      "text/plain": [
       "Text(0.5, 1.0, 'Confustion Matrix of test')"
      ]
     },
     "execution_count": 82,
     "metadata": {},
     "output_type": "execute_result"
    },
    {
     "data": {
      "image/png": "[encoded data removed]",
      "text/plain": [
       "<Figure size 432x288 with 2 Axes>"
      ]
     },
     "metadata": {
      "needs_background": "light"
     },
     "output_type": "display_data"
    }
   ],
   "source": [
    "#Plotting Heatmap for Train Confusion Matrix\n",
    "sns.heatmap(cm_test_mat_xbg, fmt='g', annot = True, cmap ='Blues')\n",
    "plt.xlabel('Predicted')\n",
    "plt.ylabel('Actual')\n",
    "plt.title('Confustion Matrix of test')"
   ]
  },
  {
   "cell_type": "code",
   "execution_count": 84,
   "id": "sonic-registrar",
   "metadata": {
    "papermill": {
     "duration": 0.085855,
     "end_time": "2021-03-17T10:15:47.155161",
     "exception": false,
     "start_time": "2021-03-17T10:15:47.069306",
     "status": "completed"
    },
    "tags": []
   },
   "outputs": [],
   "source": [
    "import pickle\n",
    "file = open('xgboost_model.pkl','wb')\n",
    "\n",
    "#Dumping the info to the file\n",
    "pickle.dump(xgb_rsv,file)"
   ]
  },
  {
   "cell_type": "code",
   "execution_count": null,
   "id": "ignored-reverse",
   "metadata": {},
   "outputs": [],
   "source": []
  }
 ],
 "metadata": {
  "kernelspec": {
   "display_name": "Python 3",
   "language": "python",
   "name": "python3"
  },
  "language_info": {
   "codemirror_mode": {
    "name": "ipython",
    "version": 3
   },
   "file_extension": ".py",
   "mimetype": "text/x-python",
   "name": "python",
   "nbconvert_exporter": "python",
   "pygments_lexer": "ipython3",
   "version": "3.7.10"
  },
  "papermill": {
   "default_parameters": {},
   "duration": 307.712598,
   "end_time": "2021-03-17T10:15:48.352607",
   "environment_variables": {},
   "exception": null,
   "input_path": "__notebook__.ipynb",
   "output_path": "__notebook__.ipynb",
   "parameters": {},
   "start_time": "2021-03-17T10:10:40.640009",
   "version": "2.3.2"
  }
 },
 "nbformat": 4,
 "nbformat_minor": 5
}
